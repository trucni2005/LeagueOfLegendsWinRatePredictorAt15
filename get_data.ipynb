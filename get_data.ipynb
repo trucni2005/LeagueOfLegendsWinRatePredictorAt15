{
 "cells": [
  {
   "cell_type": "code",
   "execution_count": 230,
   "metadata": {},
   "outputs": [],
   "source": [
    "# import pandas as pd\n",
    "\n",
    "# # Đọc file CSV vào DataFrame\n",
    "# df = pd.read_csv('data.csv')\n",
    "\n",
    "# df = df.iloc[:, :1]\n",
    "\n",
    "# # Ghi lại DataFrame vào file CSV\n",
    "# df.to_csv('data.csv', index=False)\n"
   ]
  },
  {
   "cell_type": "code",
   "execution_count": 231,
   "metadata": {},
   "outputs": [],
   "source": [
    "# import pandas as pd\n",
    "\n",
    "# # Đọc dữ liệu từ file csv\n",
    "# df = pd.read_csv('data_test_2.csv')\n",
    "\n",
    "# # Tạo các cột trống\n",
    "# columns = ['Team_Win']\n",
    "# empty_df = pd.DataFrame(columns=columns)\n",
    "\n",
    "\n",
    "# # Thêm các cột trống vào DataFrame ban đầu\n",
    "# df = pd.concat([df, empty_df], axis=1)\n",
    "\n",
    "# # Ghi DataFrame mới vào file csv\n",
    "# df.to_csv('data_test_2.csv', index=False)\n"
   ]
  },
  {
   "cell_type": "code",
   "execution_count": 232,
   "metadata": {},
   "outputs": [],
   "source": [
    "# import pandas as pd\n",
    "\n",
    "# # Đọc file csv cũ\n",
    "# df_old = pd.read_csv('data.csv')\n",
    "\n",
    "# # Lấy 10 cột đầu tiên\n",
    "# df_new = df_old.iloc[:10, :]\n",
    "\n",
    "# # Lưu vào file csv mới\n",
    "# df_new.to_csv('data_test_2.csv', index=False)\n"
   ]
  },
  {
   "cell_type": "code",
   "execution_count": 233,
   "metadata": {},
   "outputs": [],
   "source": [
    "import pandas as pd\n",
    "from selenium import webdriver\n",
    "from bs4 import BeautifulSoup\n",
    "import re\n",
    "import json"
   ]
  },
  {
   "cell_type": "code",
   "execution_count": 234,
   "metadata": {},
   "outputs": [],
   "source": [
    "# Đọc file csv\n",
    "df = pd.read_csv('data_no_duplicates.csv')\n",
    "\n",
    "# Lấy tất cả các link trong cột 'link'\n",
    "links = df['link']"
   ]
  },
  {
   "cell_type": "code",
   "execution_count": 235,
   "metadata": {},
   "outputs": [],
   "source": [
    "# Khởi tạo trình duyệt Chrome\n",
    "driver = webdriver.Chrome()"
   ]
  },
  {
   "cell_type": "code",
   "execution_count": 236,
   "metadata": {},
   "outputs": [],
   "source": [
    "lane_dict = {\n",
    "    1: 'top_blue',\n",
    "    2: 'top_red',\n",
    "    3: 'jung_blue',\n",
    "    4: 'jung_red',\n",
    "    5: 'mid_blue',\n",
    "    6: 'mid_red',\n",
    "    7: 'ad_blue',\n",
    "    8: 'ad_red',\n",
    "    9: 'support_blue',\n",
    "    10: 'support_red'\n",
    "}\n"
   ]
  },
  {
   "cell_type": "code",
   "execution_count": 237,
   "metadata": {},
   "outputs": [],
   "source": [
    "def get_champion_name(soup):\n",
    "    i = 0\n",
    "    rt = []\n",
    "    div_tags = soup.find_all('div', {'class': 'relative'})\n",
    "    for div_tag in div_tags:\n",
    "        a_tag = div_tag.find('a')\n",
    "        if a_tag:\n",
    "            i= i+1\n",
    "            img_tag = a_tag.find('img')\n",
    "            if img_tag:\n",
    "                champion_name = img_tag['alt']\n",
    "                lane = lane_dict[i]\n",
    "                rt.append((lane, champion_name))\n",
    "    return rt"
   ]
  },
  {
   "cell_type": "code",
   "execution_count": 238,
   "metadata": {},
   "outputs": [],
   "source": [
    "def get_Gold(soup):\n",
    "    # Lọc ra các script tag có chứa dữ liệu\n",
    "    script_tags = soup.find_all('script', {'type': 'text/javascript'})\n",
    "    \n",
    "    # Duyệt qua từng tag script và kiểm tra nội dung\n",
    "    for tag in script_tags:\n",
    "        if tag.string and 'graphDD1' in tag.string:\n",
    "                data = re.findall(r'data:\\s*(\\[\\[.*?\\]\\])', tag.string)\n",
    "                if data:\n",
    "                    # print(data[0])\n",
    "                    return data[0]\n",
    "    return None\n"
   ]
  },
  {
   "cell_type": "code",
   "execution_count": 239,
   "metadata": {},
   "outputs": [],
   "source": [
    "def get_Turret(soup):\n",
    "    # Lọc ra các script tag có chứa dữ liệu\n",
    "    script_tags = soup.find_all('script', {'type': 'text/javascript'})\n",
    "    # Duyệt qua từng tag script và kiểm tra nội dung\n",
    "    for tag in script_tags:\n",
    "        if tag.string and 'graphDD41\"' in tag.string :\n",
    "                data = re.findall(r'data:\\s*(\\[\\[.*?\\]\\])', tag.string)\n",
    "                if data:\n",
    "                    a = data[0]\n",
    "                    b = data[1]\n",
    "                    my_string1 = ''.join(map(str, data[0]))\n",
    "                    my_list1 = json.loads(my_string1)\n",
    "                    element1 = my_list1[20][1]\n",
    "\n",
    "                    my_string2 = ''.join(map(str, data[1]))\n",
    "                    my_list2 = json.loads(my_string2)\n",
    "                    element2 = my_list2[20][1]\n",
    "                    result = element2 - element1\n",
    "                    return result\n",
    "    return None"
   ]
  },
  {
   "cell_type": "code",
   "execution_count": 240,
   "metadata": {},
   "outputs": [],
   "source": [
    "def get_KDA_Lane(soup, graph_ka, graph_d):\n",
    "    # Lọc ra các script tag có chứa dữ liệu\n",
    "    script_tags = soup.find_all('script', {'type': 'text/javascript'})\n",
    "    # Duyệt qua từng tag script và kiểm tra nội dung\n",
    "    for tag in script_tags:\n",
    "        if tag.string and graph_ka in tag.string :\n",
    "                data = re.findall(r'data:\\s*(\\[\\[.*?\\]\\])', tag.string)\n",
    "                if data:\n",
    "                    a = data[0]\n",
    "                    b = data[1]\n",
    "                    my_string1 = ''.join(map(str, data[0]))\n",
    "                    my_list1 = json.loads(my_string1)\n",
    "                    ka_red = my_list1[20][1]\n",
    "\n",
    "                    my_string2 = ''.join(map(str, data[1]))\n",
    "                    my_list2 = json.loads(my_string2)\n",
    "                    ka_blue = my_list2[20][1]\n",
    "        if tag.string and graph_d in tag.string :\n",
    "                data = re.findall(r'data:\\s*(\\[\\[.*?\\]\\])', tag.string)\n",
    "                if data:\n",
    "                    a = data[0]\n",
    "                    b = data[1]\n",
    "                    my_string1 = ''.join(map(str, data[0]))\n",
    "                    my_list1 = json.loads(my_string1)\n",
    "                    d_red = my_list1[20][1]\n",
    "\n",
    "                    my_string2 = ''.join(map(str, data[1]))\n",
    "                    my_list2 = json.loads(my_string2)\n",
    "                    d_blue = my_list2[20][1]\n",
    "    \n",
    "    if (d_blue == 0): \n",
    "        d_blue = 1\n",
    "    \n",
    "    if (d_red == 0): \n",
    "        d_red = 1\n",
    "    kda_blue = ka_blue/d_blue\n",
    "    kda_red = ka_red/d_red\n",
    "    return kda_blue, kda_red"
   ]
  },
  {
   "cell_type": "code",
   "execution_count": 241,
   "metadata": {},
   "outputs": [],
   "source": [
    "def get_KDA_All_Lane(i, soup):\n",
    "    kda_top_blue, kda_top_red = get_KDA_Lane(soup, 'graphDD11\"', 'graphDD14\"')\n",
    "    kda_jungle_blue, kda_jungle_red = get_KDA_Lane(soup, 'graphDD69\"', 'graphDD72\"')\n",
    "    kda_mid_blue, kda_mid_red = get_KDA_Lane(soup, 'graphDD127\"', 'graphDD130\"')\n",
    "    kda_ad_blue, kda_ad_red = get_KDA_Lane(soup, 'graphDD185\"', 'graphDD188\"')\n",
    "    kda_sp_blue, kda_sp_red = get_KDA_Lane(soup, 'graphDD243\"', 'graphDD246\"')\n",
    "    df.loc[i, 'kda_top_blue'] = round(kda_top_blue, 2)\n",
    "    df.loc[i, 'kda_top_red'] = round(kda_top_red, 2)\n",
    "    df.loc[i, 'kda_jungle_blue'] = round(kda_jungle_blue, 2)\n",
    "    df.loc[i, 'kda_jungle_red'] = round(kda_jungle_red, 2)\n",
    "    df.loc[i, 'kda_mid_blue'] = round(kda_mid_blue, 2)\n",
    "    df.loc[i, 'kda_mid_red'] = round(kda_mid_red, 2)\n",
    "    df.loc[i, 'kda_ad_blue'] = round(kda_ad_blue, 2)\n",
    "    df.loc[i, 'kda_ad_red'] = round(kda_ad_red, 2)\n",
    "    df.loc[i, 'kda_sp_blue'] = round(kda_sp_blue, 2)\n",
    "    df.loc[i, 'kda_sp_red'] = round(kda_sp_red, 2)\n",
    "\n",
    "\n"
   ]
  },
  {
   "cell_type": "code",
   "execution_count": 242,
   "metadata": {},
   "outputs": [],
   "source": [
    "def get_Dragon_Count(soup):\n",
    "    # Lọc ra các script tag có chứa dữ liệu\n",
    "    script_tags = soup.find_all('script', {'type': 'text/javascript'})\n",
    "    # Duyệt qua từng tag script và kiểm tra nội dung\n",
    "    for tag in script_tags:\n",
    "        # in tag.string and 'graphDD380' not in tag.string and 'graphDD382' not in tag.string and 'graphDD419' not in tag.string\n",
    "        if tag.string and 'graphDD38\"' in tag.string:\n",
    "                data = re.findall(r'data:\\s*(\\[\\[.*?\\]\\])', tag.string)\n",
    "                if data:\n",
    "                    a = data[0]\n",
    "                    b = data[1]\n",
    "                    my_string1 = ''.join(map(str, data[0]))\n",
    "                    my_list1 = json.loads(my_string1)\n",
    "                    element1 = my_list1[20][1]\n",
    "\n",
    "                    my_string2 = ''.join(map(str, data[1]))\n",
    "                    my_list2 = json.loads(my_string2)\n",
    "                    element2 = my_list2[20][1]\n",
    "                    result = element2 - element1\n",
    "                    return result\n",
    "    return None"
   ]
  },
  {
   "cell_type": "code",
   "execution_count": 243,
   "metadata": {},
   "outputs": [],
   "source": [
    "def get_Rift_Heralds_killed(soup):\n",
    "    div_tag = soup.find('div', {'class': 'box matchBox'})\n",
    "    th_blue_tags = div_tag.find_all('th', {'class': 'text-center no-padding-lateral'})\n",
    "    \n",
    "    blue_rift_heralds_tag = th_blue_tags[0].find('div', {'teamcounters-heralds-13'})\n",
    "    blue_rift_heralds_value = blue_rift_heralds_tag.find_parent('div').text.strip()\n",
    "    \n",
    "    red_rift_heralds_tag = th_blue_tags[1].find('div', {'teamcounters-heralds-13'})\n",
    "    red_rift_heralds_value = red_rift_heralds_tag.find_parent('div').text.strip()\n",
    "    # print(blue_rift_heralds_value,\"        \", red_rift_heralds_value)\n",
    "    \n",
    "    return blue_rift_heralds_value, red_rift_heralds_value"
   ]
  },
  {
   "cell_type": "code",
   "execution_count": 244,
   "metadata": {},
   "outputs": [],
   "source": [
    "def get_teamWin(soup):\n",
    "    teamWin = \"\"\n",
    "    div_tag = soup.find('div', {'class': 'box matchBox'})\n",
    "    th_blue_tag = div_tag.find('th', {'class': 'text-left no-padding-right'})\n",
    "    \n",
    "    blue_victory_tag = th_blue_tag.find('span', {'class': 'victory'})\n",
    "    blue_defeat_tag = th_blue_tag.find('span', {'class': 'defeat'})\n",
    "    # print(blue_victory_tag, \"    \", blue_defeat_tag)\n",
    "    # blue_victory_result = blue_victory_tag.text.strip()\n",
    "    if (blue_victory_tag is not None) and (blue_defeat_tag is None):\n",
    "        teamWin = \"blue\"\n",
    "    else: \n",
    "        if  (blue_victory_tag is None) and (blue_defeat_tag is not None):\n",
    "            teamWin = \"red\"\n",
    "    # print(teamWin)\n",
    "    return teamWin"
   ]
  },
  {
   "cell_type": "code",
   "execution_count": 245,
   "metadata": {},
   "outputs": [],
   "source": [
    "def get_KDA(soup):\n",
    "    div_tags = soup.find('div', {'class': 'box matchBox'})\n",
    "    kda_span_blue = div_tags.find('span', {'class': 'kda kda-left hide-for-small-down-custom'})\n",
    "    kda_value_blue = kda_span_blue.text.strip()\n",
    "    \n",
    "    kda_span_red = div_tags.find('span', {'class': 'kda kda-right hide-for-small-down-custom'})\n",
    "    kda_value_red = kda_span_red.text.strip()\n",
    "    if (kda_value_blue is not None) and (kda_value_red is not None):\n",
    "        return kda_value_blue, kda_value_red"
   ]
  },
  {
   "cell_type": "code",
   "execution_count": 247,
   "metadata": {},
   "outputs": [
    {
     "name": "stdout",
     "output_type": "stream",
     "text": [
      "0 done\n",
      "1 done\n",
      "2 done\n",
      "3 done\n",
      "4 done\n",
      "5 done\n",
      "6 done\n",
      "7 done\n",
      "8 done\n"
     ]
    },
    {
     "name": "stderr",
     "output_type": "stream",
     "text": [
      "C:\\Users\\dangt\\AppData\\Local\\Temp/ipykernel_3288/3778380364.py:14: PerformanceWarning: DataFrame is highly fragmented.  This is usually the result of calling `frame.insert` many times, which has poor performance.  Consider joining all columns at once using pd.concat(axis=1) instead. To get a de-fragmented frame, use `newframe = frame.copy()`\n",
      "  df['kda_ad_red',i] = round(kda_ad_red, 2)\n",
      "C:\\Users\\dangt\\AppData\\Local\\Temp/ipykernel_3288/3778380364.py:15: PerformanceWarning: DataFrame is highly fragmented.  This is usually the result of calling `frame.insert` many times, which has poor performance.  Consider joining all columns at once using pd.concat(axis=1) instead. To get a de-fragmented frame, use `newframe = frame.copy()`\n",
      "  df['kda_sp_blue',i] = round(kda_sp_blue, 2)\n",
      "C:\\Users\\dangt\\AppData\\Local\\Temp/ipykernel_3288/3778380364.py:16: PerformanceWarning: DataFrame is highly fragmented.  This is usually the result of calling `frame.insert` many times, which has poor performance.  Consider joining all columns at once using pd.concat(axis=1) instead. To get a de-fragmented frame, use `newframe = frame.copy()`\n",
      "  df['kda_sp_red',i] = round(kda_sp_red, 2)\n"
     ]
    },
    {
     "name": "stdout",
     "output_type": "stream",
     "text": [
      "9 done\n"
     ]
    },
    {
     "name": "stderr",
     "output_type": "stream",
     "text": [
      "C:\\Users\\dangt\\AppData\\Local\\Temp/ipykernel_3288/3778380364.py:7: PerformanceWarning: DataFrame is highly fragmented.  This is usually the result of calling `frame.insert` many times, which has poor performance.  Consider joining all columns at once using pd.concat(axis=1) instead. To get a de-fragmented frame, use `newframe = frame.copy()`\n",
      "  df['kda_top_blue',i] = round(kda_top_blue, 2)\n",
      "C:\\Users\\dangt\\AppData\\Local\\Temp/ipykernel_3288/3778380364.py:8: PerformanceWarning: DataFrame is highly fragmented.  This is usually the result of calling `frame.insert` many times, which has poor performance.  Consider joining all columns at once using pd.concat(axis=1) instead. To get a de-fragmented frame, use `newframe = frame.copy()`\n",
      "  df['kda_top_red',i] = round(kda_top_red, 2)\n",
      "C:\\Users\\dangt\\AppData\\Local\\Temp/ipykernel_3288/3778380364.py:9: PerformanceWarning: DataFrame is highly fragmented.  This is usually the result of calling `frame.insert` many times, which has poor performance.  Consider joining all columns at once using pd.concat(axis=1) instead. To get a de-fragmented frame, use `newframe = frame.copy()`\n",
      "  df['kda_jungle_blue',i] = round(kda_jungle_blue, 2)\n",
      "C:\\Users\\dangt\\AppData\\Local\\Temp/ipykernel_3288/3778380364.py:10: PerformanceWarning: DataFrame is highly fragmented.  This is usually the result of calling `frame.insert` many times, which has poor performance.  Consider joining all columns at once using pd.concat(axis=1) instead. To get a de-fragmented frame, use `newframe = frame.copy()`\n",
      "  df['kda_jungle_red',i] = round(kda_jungle_red, 2)\n",
      "C:\\Users\\dangt\\AppData\\Local\\Temp/ipykernel_3288/3778380364.py:11: PerformanceWarning: DataFrame is highly fragmented.  This is usually the result of calling `frame.insert` many times, which has poor performance.  Consider joining all columns at once using pd.concat(axis=1) instead. To get a de-fragmented frame, use `newframe = frame.copy()`\n",
      "  df['kda_mid_blue',i] = round(kda_mid_blue, 2)\n",
      "C:\\Users\\dangt\\AppData\\Local\\Temp/ipykernel_3288/3778380364.py:12: PerformanceWarning: DataFrame is highly fragmented.  This is usually the result of calling `frame.insert` many times, which has poor performance.  Consider joining all columns at once using pd.concat(axis=1) instead. To get a de-fragmented frame, use `newframe = frame.copy()`\n",
      "  df['kda_mid_red',i] = round(kda_mid_red, 2)\n",
      "C:\\Users\\dangt\\AppData\\Local\\Temp/ipykernel_3288/3778380364.py:13: PerformanceWarning: DataFrame is highly fragmented.  This is usually the result of calling `frame.insert` many times, which has poor performance.  Consider joining all columns at once using pd.concat(axis=1) instead. To get a de-fragmented frame, use `newframe = frame.copy()`\n",
      "  df['kda_ad_blue',i] = round(kda_ad_blue, 2)\n",
      "C:\\Users\\dangt\\AppData\\Local\\Temp/ipykernel_3288/3778380364.py:14: PerformanceWarning: DataFrame is highly fragmented.  This is usually the result of calling `frame.insert` many times, which has poor performance.  Consider joining all columns at once using pd.concat(axis=1) instead. To get a de-fragmented frame, use `newframe = frame.copy()`\n",
      "  df['kda_ad_red',i] = round(kda_ad_red, 2)\n",
      "C:\\Users\\dangt\\AppData\\Local\\Temp/ipykernel_3288/3778380364.py:15: PerformanceWarning: DataFrame is highly fragmented.  This is usually the result of calling `frame.insert` many times, which has poor performance.  Consider joining all columns at once using pd.concat(axis=1) instead. To get a de-fragmented frame, use `newframe = frame.copy()`\n",
      "  df['kda_sp_blue',i] = round(kda_sp_blue, 2)\n",
      "C:\\Users\\dangt\\AppData\\Local\\Temp/ipykernel_3288/3778380364.py:16: PerformanceWarning: DataFrame is highly fragmented.  This is usually the result of calling `frame.insert` many times, which has poor performance.  Consider joining all columns at once using pd.concat(axis=1) instead. To get a de-fragmented frame, use `newframe = frame.copy()`\n",
      "  df['kda_sp_red',i] = round(kda_sp_red, 2)\n"
     ]
    },
    {
     "name": "stdout",
     "output_type": "stream",
     "text": [
      "10 done\n"
     ]
    },
    {
     "name": "stderr",
     "output_type": "stream",
     "text": [
      "C:\\Users\\dangt\\AppData\\Local\\Temp/ipykernel_3288/3778380364.py:7: PerformanceWarning: DataFrame is highly fragmented.  This is usually the result of calling `frame.insert` many times, which has poor performance.  Consider joining all columns at once using pd.concat(axis=1) instead. To get a de-fragmented frame, use `newframe = frame.copy()`\n",
      "  df['kda_top_blue',i] = round(kda_top_blue, 2)\n",
      "C:\\Users\\dangt\\AppData\\Local\\Temp/ipykernel_3288/3778380364.py:8: PerformanceWarning: DataFrame is highly fragmented.  This is usually the result of calling `frame.insert` many times, which has poor performance.  Consider joining all columns at once using pd.concat(axis=1) instead. To get a de-fragmented frame, use `newframe = frame.copy()`\n",
      "  df['kda_top_red',i] = round(kda_top_red, 2)\n",
      "C:\\Users\\dangt\\AppData\\Local\\Temp/ipykernel_3288/3778380364.py:9: PerformanceWarning: DataFrame is highly fragmented.  This is usually the result of calling `frame.insert` many times, which has poor performance.  Consider joining all columns at once using pd.concat(axis=1) instead. To get a de-fragmented frame, use `newframe = frame.copy()`\n",
      "  df['kda_jungle_blue',i] = round(kda_jungle_blue, 2)\n",
      "C:\\Users\\dangt\\AppData\\Local\\Temp/ipykernel_3288/3778380364.py:10: PerformanceWarning: DataFrame is highly fragmented.  This is usually the result of calling `frame.insert` many times, which has poor performance.  Consider joining all columns at once using pd.concat(axis=1) instead. To get a de-fragmented frame, use `newframe = frame.copy()`\n",
      "  df['kda_jungle_red',i] = round(kda_jungle_red, 2)\n",
      "C:\\Users\\dangt\\AppData\\Local\\Temp/ipykernel_3288/3778380364.py:11: PerformanceWarning: DataFrame is highly fragmented.  This is usually the result of calling `frame.insert` many times, which has poor performance.  Consider joining all columns at once using pd.concat(axis=1) instead. To get a de-fragmented frame, use `newframe = frame.copy()`\n",
      "  df['kda_mid_blue',i] = round(kda_mid_blue, 2)\n",
      "C:\\Users\\dangt\\AppData\\Local\\Temp/ipykernel_3288/3778380364.py:12: PerformanceWarning: DataFrame is highly fragmented.  This is usually the result of calling `frame.insert` many times, which has poor performance.  Consider joining all columns at once using pd.concat(axis=1) instead. To get a de-fragmented frame, use `newframe = frame.copy()`\n",
      "  df['kda_mid_red',i] = round(kda_mid_red, 2)\n",
      "C:\\Users\\dangt\\AppData\\Local\\Temp/ipykernel_3288/3778380364.py:13: PerformanceWarning: DataFrame is highly fragmented.  This is usually the result of calling `frame.insert` many times, which has poor performance.  Consider joining all columns at once using pd.concat(axis=1) instead. To get a de-fragmented frame, use `newframe = frame.copy()`\n",
      "  df['kda_ad_blue',i] = round(kda_ad_blue, 2)\n",
      "C:\\Users\\dangt\\AppData\\Local\\Temp/ipykernel_3288/3778380364.py:14: PerformanceWarning: DataFrame is highly fragmented.  This is usually the result of calling `frame.insert` many times, which has poor performance.  Consider joining all columns at once using pd.concat(axis=1) instead. To get a de-fragmented frame, use `newframe = frame.copy()`\n",
      "  df['kda_ad_red',i] = round(kda_ad_red, 2)\n",
      "C:\\Users\\dangt\\AppData\\Local\\Temp/ipykernel_3288/3778380364.py:15: PerformanceWarning: DataFrame is highly fragmented.  This is usually the result of calling `frame.insert` many times, which has poor performance.  Consider joining all columns at once using pd.concat(axis=1) instead. To get a de-fragmented frame, use `newframe = frame.copy()`\n",
      "  df['kda_sp_blue',i] = round(kda_sp_blue, 2)\n",
      "C:\\Users\\dangt\\AppData\\Local\\Temp/ipykernel_3288/3778380364.py:16: PerformanceWarning: DataFrame is highly fragmented.  This is usually the result of calling `frame.insert` many times, which has poor performance.  Consider joining all columns at once using pd.concat(axis=1) instead. To get a de-fragmented frame, use `newframe = frame.copy()`\n",
      "  df['kda_sp_red',i] = round(kda_sp_red, 2)\n"
     ]
    },
    {
     "name": "stdout",
     "output_type": "stream",
     "text": [
      "11 done\n"
     ]
    },
    {
     "ename": "KeyboardInterrupt",
     "evalue": "",
     "output_type": "error",
     "traceback": [
      "\u001b[1;31m---------------------------------------------------------------------------\u001b[0m",
      "\u001b[1;31mKeyboardInterrupt\u001b[0m                         Traceback (most recent call last)",
      "\u001b[1;32m~\\AppData\\Local\\Temp/ipykernel_3288/3145452644.py\u001b[0m in \u001b[0;36m<module>\u001b[1;34m\u001b[0m\n\u001b[0;32m      3\u001b[0m \u001b[1;32mfor\u001b[0m \u001b[0mlink\u001b[0m \u001b[1;32min\u001b[0m \u001b[0mlinks\u001b[0m\u001b[1;33m:\u001b[0m\u001b[1;33m\u001b[0m\u001b[1;33m\u001b[0m\u001b[0m\n\u001b[0;32m      4\u001b[0m         \u001b[1;31m# Mở trang web\u001b[0m\u001b[1;33m\u001b[0m\u001b[1;33m\u001b[0m\u001b[0m\n\u001b[1;32m----> 5\u001b[1;33m     \u001b[0mdriver\u001b[0m\u001b[1;33m.\u001b[0m\u001b[0mget\u001b[0m\u001b[1;33m(\u001b[0m\u001b[1;34m'https://www.leagueofgraphs.com/'\u001b[0m\u001b[1;33m+\u001b[0m \u001b[0mlink\u001b[0m\u001b[1;33m)\u001b[0m\u001b[1;33m\u001b[0m\u001b[1;33m\u001b[0m\u001b[0m\n\u001b[0m\u001b[0;32m      6\u001b[0m \u001b[1;33m\u001b[0m\u001b[0m\n\u001b[0;32m      7\u001b[0m         \u001b[1;31m# Chờ cho trang web tải xong\u001b[0m\u001b[1;33m\u001b[0m\u001b[1;33m\u001b[0m\u001b[0m\n",
      "\u001b[1;32mc:\\Users\\dangt\\AppData\\Local\\Programs\\Python\\Python310\\lib\\site-packages\\selenium\\webdriver\\remote\\webdriver.py\u001b[0m in \u001b[0;36mget\u001b[1;34m(self, url)\u001b[0m\n\u001b[0;32m    447\u001b[0m     \u001b[1;32mdef\u001b[0m \u001b[0mget\u001b[0m\u001b[1;33m(\u001b[0m\u001b[0mself\u001b[0m\u001b[1;33m,\u001b[0m \u001b[0murl\u001b[0m\u001b[1;33m:\u001b[0m \u001b[0mstr\u001b[0m\u001b[1;33m)\u001b[0m \u001b[1;33m->\u001b[0m \u001b[1;32mNone\u001b[0m\u001b[1;33m:\u001b[0m\u001b[1;33m\u001b[0m\u001b[1;33m\u001b[0m\u001b[0m\n\u001b[0;32m    448\u001b[0m         \u001b[1;34m\"\"\"Loads a web page in the current browser session.\"\"\"\u001b[0m\u001b[1;33m\u001b[0m\u001b[1;33m\u001b[0m\u001b[0m\n\u001b[1;32m--> 449\u001b[1;33m         \u001b[0mself\u001b[0m\u001b[1;33m.\u001b[0m\u001b[0mexecute\u001b[0m\u001b[1;33m(\u001b[0m\u001b[0mCommand\u001b[0m\u001b[1;33m.\u001b[0m\u001b[0mGET\u001b[0m\u001b[1;33m,\u001b[0m \u001b[1;33m{\u001b[0m\u001b[1;34m\"url\"\u001b[0m\u001b[1;33m:\u001b[0m \u001b[0murl\u001b[0m\u001b[1;33m}\u001b[0m\u001b[1;33m)\u001b[0m\u001b[1;33m\u001b[0m\u001b[1;33m\u001b[0m\u001b[0m\n\u001b[0m\u001b[0;32m    450\u001b[0m \u001b[1;33m\u001b[0m\u001b[0m\n\u001b[0;32m    451\u001b[0m     \u001b[1;33m@\u001b[0m\u001b[0mproperty\u001b[0m\u001b[1;33m\u001b[0m\u001b[1;33m\u001b[0m\u001b[0m\n",
      "\u001b[1;32mc:\\Users\\dangt\\AppData\\Local\\Programs\\Python\\Python310\\lib\\site-packages\\selenium\\webdriver\\remote\\webdriver.py\u001b[0m in \u001b[0;36mexecute\u001b[1;34m(self, driver_command, params)\u001b[0m\n\u001b[0;32m    436\u001b[0m                 \u001b[0mparams\u001b[0m\u001b[1;33m[\u001b[0m\u001b[1;34m\"sessionId\"\u001b[0m\u001b[1;33m]\u001b[0m \u001b[1;33m=\u001b[0m \u001b[0mself\u001b[0m\u001b[1;33m.\u001b[0m\u001b[0msession_id\u001b[0m\u001b[1;33m\u001b[0m\u001b[1;33m\u001b[0m\u001b[0m\n\u001b[0;32m    437\u001b[0m \u001b[1;33m\u001b[0m\u001b[0m\n\u001b[1;32m--> 438\u001b[1;33m         \u001b[0mresponse\u001b[0m \u001b[1;33m=\u001b[0m \u001b[0mself\u001b[0m\u001b[1;33m.\u001b[0m\u001b[0mcommand_executor\u001b[0m\u001b[1;33m.\u001b[0m\u001b[0mexecute\u001b[0m\u001b[1;33m(\u001b[0m\u001b[0mdriver_command\u001b[0m\u001b[1;33m,\u001b[0m \u001b[0mparams\u001b[0m\u001b[1;33m)\u001b[0m\u001b[1;33m\u001b[0m\u001b[1;33m\u001b[0m\u001b[0m\n\u001b[0m\u001b[0;32m    439\u001b[0m         \u001b[1;32mif\u001b[0m \u001b[0mresponse\u001b[0m\u001b[1;33m:\u001b[0m\u001b[1;33m\u001b[0m\u001b[1;33m\u001b[0m\u001b[0m\n\u001b[0;32m    440\u001b[0m             \u001b[0mself\u001b[0m\u001b[1;33m.\u001b[0m\u001b[0merror_handler\u001b[0m\u001b[1;33m.\u001b[0m\u001b[0mcheck_response\u001b[0m\u001b[1;33m(\u001b[0m\u001b[0mresponse\u001b[0m\u001b[1;33m)\u001b[0m\u001b[1;33m\u001b[0m\u001b[1;33m\u001b[0m\u001b[0m\n",
      "\u001b[1;32mc:\\Users\\dangt\\AppData\\Local\\Programs\\Python\\Python310\\lib\\site-packages\\selenium\\webdriver\\remote\\remote_connection.py\u001b[0m in \u001b[0;36mexecute\u001b[1;34m(self, command, params)\u001b[0m\n\u001b[0;32m    288\u001b[0m         \u001b[0mdata\u001b[0m \u001b[1;33m=\u001b[0m \u001b[0mutils\u001b[0m\u001b[1;33m.\u001b[0m\u001b[0mdump_json\u001b[0m\u001b[1;33m(\u001b[0m\u001b[0mparams\u001b[0m\u001b[1;33m)\u001b[0m\u001b[1;33m\u001b[0m\u001b[1;33m\u001b[0m\u001b[0m\n\u001b[0;32m    289\u001b[0m         \u001b[0murl\u001b[0m \u001b[1;33m=\u001b[0m \u001b[1;34mf\"{self._url}{path}\"\u001b[0m\u001b[1;33m\u001b[0m\u001b[1;33m\u001b[0m\u001b[0m\n\u001b[1;32m--> 290\u001b[1;33m         \u001b[1;32mreturn\u001b[0m \u001b[0mself\u001b[0m\u001b[1;33m.\u001b[0m\u001b[0m_request\u001b[0m\u001b[1;33m(\u001b[0m\u001b[0mcommand_info\u001b[0m\u001b[1;33m[\u001b[0m\u001b[1;36m0\u001b[0m\u001b[1;33m]\u001b[0m\u001b[1;33m,\u001b[0m \u001b[0murl\u001b[0m\u001b[1;33m,\u001b[0m \u001b[0mbody\u001b[0m\u001b[1;33m=\u001b[0m\u001b[0mdata\u001b[0m\u001b[1;33m)\u001b[0m\u001b[1;33m\u001b[0m\u001b[1;33m\u001b[0m\u001b[0m\n\u001b[0m\u001b[0;32m    291\u001b[0m \u001b[1;33m\u001b[0m\u001b[0m\n\u001b[0;32m    292\u001b[0m     \u001b[1;32mdef\u001b[0m \u001b[0m_request\u001b[0m\u001b[1;33m(\u001b[0m\u001b[0mself\u001b[0m\u001b[1;33m,\u001b[0m \u001b[0mmethod\u001b[0m\u001b[1;33m,\u001b[0m \u001b[0murl\u001b[0m\u001b[1;33m,\u001b[0m \u001b[0mbody\u001b[0m\u001b[1;33m=\u001b[0m\u001b[1;32mNone\u001b[0m\u001b[1;33m)\u001b[0m\u001b[1;33m:\u001b[0m\u001b[1;33m\u001b[0m\u001b[1;33m\u001b[0m\u001b[0m\n",
      "\u001b[1;32mc:\\Users\\dangt\\AppData\\Local\\Programs\\Python\\Python310\\lib\\site-packages\\selenium\\webdriver\\remote\\remote_connection.py\u001b[0m in \u001b[0;36m_request\u001b[1;34m(self, method, url, body)\u001b[0m\n\u001b[0;32m    309\u001b[0m \u001b[1;33m\u001b[0m\u001b[0m\n\u001b[0;32m    310\u001b[0m         \u001b[1;32mif\u001b[0m \u001b[0mself\u001b[0m\u001b[1;33m.\u001b[0m\u001b[0mkeep_alive\u001b[0m\u001b[1;33m:\u001b[0m\u001b[1;33m\u001b[0m\u001b[1;33m\u001b[0m\u001b[0m\n\u001b[1;32m--> 311\u001b[1;33m             \u001b[0mresponse\u001b[0m \u001b[1;33m=\u001b[0m \u001b[0mself\u001b[0m\u001b[1;33m.\u001b[0m\u001b[0m_conn\u001b[0m\u001b[1;33m.\u001b[0m\u001b[0mrequest\u001b[0m\u001b[1;33m(\u001b[0m\u001b[0mmethod\u001b[0m\u001b[1;33m,\u001b[0m \u001b[0murl\u001b[0m\u001b[1;33m,\u001b[0m \u001b[0mbody\u001b[0m\u001b[1;33m=\u001b[0m\u001b[0mbody\u001b[0m\u001b[1;33m,\u001b[0m \u001b[0mheaders\u001b[0m\u001b[1;33m=\u001b[0m\u001b[0mheaders\u001b[0m\u001b[1;33m)\u001b[0m\u001b[1;33m\u001b[0m\u001b[1;33m\u001b[0m\u001b[0m\n\u001b[0m\u001b[0;32m    312\u001b[0m             \u001b[0mstatuscode\u001b[0m \u001b[1;33m=\u001b[0m \u001b[0mresponse\u001b[0m\u001b[1;33m.\u001b[0m\u001b[0mstatus\u001b[0m\u001b[1;33m\u001b[0m\u001b[1;33m\u001b[0m\u001b[0m\n\u001b[0;32m    313\u001b[0m         \u001b[1;32melse\u001b[0m\u001b[1;33m:\u001b[0m\u001b[1;33m\u001b[0m\u001b[1;33m\u001b[0m\u001b[0m\n",
      "\u001b[1;32mc:\\Users\\dangt\\AppData\\Local\\Programs\\Python\\Python310\\lib\\site-packages\\urllib3\\request.py\u001b[0m in \u001b[0;36mrequest\u001b[1;34m(self, method, url, fields, headers, **urlopen_kw)\u001b[0m\n\u001b[0;32m     76\u001b[0m             )\n\u001b[0;32m     77\u001b[0m         \u001b[1;32melse\u001b[0m\u001b[1;33m:\u001b[0m\u001b[1;33m\u001b[0m\u001b[1;33m\u001b[0m\u001b[0m\n\u001b[1;32m---> 78\u001b[1;33m             return self.request_encode_body(\n\u001b[0m\u001b[0;32m     79\u001b[0m                 \u001b[0mmethod\u001b[0m\u001b[1;33m,\u001b[0m \u001b[0murl\u001b[0m\u001b[1;33m,\u001b[0m \u001b[0mfields\u001b[0m\u001b[1;33m=\u001b[0m\u001b[0mfields\u001b[0m\u001b[1;33m,\u001b[0m \u001b[0mheaders\u001b[0m\u001b[1;33m=\u001b[0m\u001b[0mheaders\u001b[0m\u001b[1;33m,\u001b[0m \u001b[1;33m**\u001b[0m\u001b[0murlopen_kw\u001b[0m\u001b[1;33m\u001b[0m\u001b[1;33m\u001b[0m\u001b[0m\n\u001b[0;32m     80\u001b[0m             )\n",
      "\u001b[1;32mc:\\Users\\dangt\\AppData\\Local\\Programs\\Python\\Python310\\lib\\site-packages\\urllib3\\request.py\u001b[0m in \u001b[0;36mrequest_encode_body\u001b[1;34m(self, method, url, fields, headers, encode_multipart, multipart_boundary, **urlopen_kw)\u001b[0m\n\u001b[0;32m    168\u001b[0m         \u001b[0mextra_kw\u001b[0m\u001b[1;33m.\u001b[0m\u001b[0mupdate\u001b[0m\u001b[1;33m(\u001b[0m\u001b[0murlopen_kw\u001b[0m\u001b[1;33m)\u001b[0m\u001b[1;33m\u001b[0m\u001b[1;33m\u001b[0m\u001b[0m\n\u001b[0;32m    169\u001b[0m \u001b[1;33m\u001b[0m\u001b[0m\n\u001b[1;32m--> 170\u001b[1;33m         \u001b[1;32mreturn\u001b[0m \u001b[0mself\u001b[0m\u001b[1;33m.\u001b[0m\u001b[0murlopen\u001b[0m\u001b[1;33m(\u001b[0m\u001b[0mmethod\u001b[0m\u001b[1;33m,\u001b[0m \u001b[0murl\u001b[0m\u001b[1;33m,\u001b[0m \u001b[1;33m**\u001b[0m\u001b[0mextra_kw\u001b[0m\u001b[1;33m)\u001b[0m\u001b[1;33m\u001b[0m\u001b[1;33m\u001b[0m\u001b[0m\n\u001b[0m",
      "\u001b[1;32mc:\\Users\\dangt\\AppData\\Local\\Programs\\Python\\Python310\\lib\\site-packages\\urllib3\\poolmanager.py\u001b[0m in \u001b[0;36murlopen\u001b[1;34m(self, method, url, redirect, **kw)\u001b[0m\n\u001b[0;32m    373\u001b[0m             \u001b[0mresponse\u001b[0m \u001b[1;33m=\u001b[0m \u001b[0mconn\u001b[0m\u001b[1;33m.\u001b[0m\u001b[0murlopen\u001b[0m\u001b[1;33m(\u001b[0m\u001b[0mmethod\u001b[0m\u001b[1;33m,\u001b[0m \u001b[0murl\u001b[0m\u001b[1;33m,\u001b[0m \u001b[1;33m**\u001b[0m\u001b[0mkw\u001b[0m\u001b[1;33m)\u001b[0m\u001b[1;33m\u001b[0m\u001b[1;33m\u001b[0m\u001b[0m\n\u001b[0;32m    374\u001b[0m         \u001b[1;32melse\u001b[0m\u001b[1;33m:\u001b[0m\u001b[1;33m\u001b[0m\u001b[1;33m\u001b[0m\u001b[0m\n\u001b[1;32m--> 375\u001b[1;33m             \u001b[0mresponse\u001b[0m \u001b[1;33m=\u001b[0m \u001b[0mconn\u001b[0m\u001b[1;33m.\u001b[0m\u001b[0murlopen\u001b[0m\u001b[1;33m(\u001b[0m\u001b[0mmethod\u001b[0m\u001b[1;33m,\u001b[0m \u001b[0mu\u001b[0m\u001b[1;33m.\u001b[0m\u001b[0mrequest_uri\u001b[0m\u001b[1;33m,\u001b[0m \u001b[1;33m**\u001b[0m\u001b[0mkw\u001b[0m\u001b[1;33m)\u001b[0m\u001b[1;33m\u001b[0m\u001b[1;33m\u001b[0m\u001b[0m\n\u001b[0m\u001b[0;32m    376\u001b[0m \u001b[1;33m\u001b[0m\u001b[0m\n\u001b[0;32m    377\u001b[0m         \u001b[0mredirect_location\u001b[0m \u001b[1;33m=\u001b[0m \u001b[0mredirect\u001b[0m \u001b[1;32mand\u001b[0m \u001b[0mresponse\u001b[0m\u001b[1;33m.\u001b[0m\u001b[0mget_redirect_location\u001b[0m\u001b[1;33m(\u001b[0m\u001b[1;33m)\u001b[0m\u001b[1;33m\u001b[0m\u001b[1;33m\u001b[0m\u001b[0m\n",
      "\u001b[1;32mc:\\Users\\dangt\\AppData\\Local\\Programs\\Python\\Python310\\lib\\site-packages\\urllib3\\connectionpool.py\u001b[0m in \u001b[0;36murlopen\u001b[1;34m(self, method, url, body, headers, retries, redirect, assert_same_host, timeout, pool_timeout, release_conn, chunked, body_pos, **response_kw)\u001b[0m\n\u001b[0;32m    697\u001b[0m \u001b[1;33m\u001b[0m\u001b[0m\n\u001b[0;32m    698\u001b[0m             \u001b[1;31m# Make the request on the httplib connection object.\u001b[0m\u001b[1;33m\u001b[0m\u001b[1;33m\u001b[0m\u001b[0m\n\u001b[1;32m--> 699\u001b[1;33m             httplib_response = self._make_request(\n\u001b[0m\u001b[0;32m    700\u001b[0m                 \u001b[0mconn\u001b[0m\u001b[1;33m,\u001b[0m\u001b[1;33m\u001b[0m\u001b[1;33m\u001b[0m\u001b[0m\n\u001b[0;32m    701\u001b[0m                 \u001b[0mmethod\u001b[0m\u001b[1;33m,\u001b[0m\u001b[1;33m\u001b[0m\u001b[1;33m\u001b[0m\u001b[0m\n",
      "\u001b[1;32mc:\\Users\\dangt\\AppData\\Local\\Programs\\Python\\Python310\\lib\\site-packages\\urllib3\\connectionpool.py\u001b[0m in \u001b[0;36m_make_request\u001b[1;34m(self, conn, method, url, timeout, chunked, **httplib_request_kw)\u001b[0m\n\u001b[0;32m    443\u001b[0m                     \u001b[1;31m# Python 3 (including for exceptions like SystemExit).\u001b[0m\u001b[1;33m\u001b[0m\u001b[1;33m\u001b[0m\u001b[0m\n\u001b[0;32m    444\u001b[0m                     \u001b[1;31m# Otherwise it looks like a bug in the code.\u001b[0m\u001b[1;33m\u001b[0m\u001b[1;33m\u001b[0m\u001b[0m\n\u001b[1;32m--> 445\u001b[1;33m                     \u001b[0msix\u001b[0m\u001b[1;33m.\u001b[0m\u001b[0mraise_from\u001b[0m\u001b[1;33m(\u001b[0m\u001b[0me\u001b[0m\u001b[1;33m,\u001b[0m \u001b[1;32mNone\u001b[0m\u001b[1;33m)\u001b[0m\u001b[1;33m\u001b[0m\u001b[1;33m\u001b[0m\u001b[0m\n\u001b[0m\u001b[0;32m    446\u001b[0m         \u001b[1;32mexcept\u001b[0m \u001b[1;33m(\u001b[0m\u001b[0mSocketTimeout\u001b[0m\u001b[1;33m,\u001b[0m \u001b[0mBaseSSLError\u001b[0m\u001b[1;33m,\u001b[0m \u001b[0mSocketError\u001b[0m\u001b[1;33m)\u001b[0m \u001b[1;32mas\u001b[0m \u001b[0me\u001b[0m\u001b[1;33m:\u001b[0m\u001b[1;33m\u001b[0m\u001b[1;33m\u001b[0m\u001b[0m\n\u001b[0;32m    447\u001b[0m             \u001b[0mself\u001b[0m\u001b[1;33m.\u001b[0m\u001b[0m_raise_timeout\u001b[0m\u001b[1;33m(\u001b[0m\u001b[0merr\u001b[0m\u001b[1;33m=\u001b[0m\u001b[0me\u001b[0m\u001b[1;33m,\u001b[0m \u001b[0murl\u001b[0m\u001b[1;33m=\u001b[0m\u001b[0murl\u001b[0m\u001b[1;33m,\u001b[0m \u001b[0mtimeout_value\u001b[0m\u001b[1;33m=\u001b[0m\u001b[0mread_timeout\u001b[0m\u001b[1;33m)\u001b[0m\u001b[1;33m\u001b[0m\u001b[1;33m\u001b[0m\u001b[0m\n",
      "\u001b[1;32mc:\\Users\\dangt\\AppData\\Local\\Programs\\Python\\Python310\\lib\\site-packages\\urllib3\\packages\\six.py\u001b[0m in \u001b[0;36mraise_from\u001b[1;34m(value, from_value)\u001b[0m\n",
      "\u001b[1;32mc:\\Users\\dangt\\AppData\\Local\\Programs\\Python\\Python310\\lib\\site-packages\\urllib3\\connectionpool.py\u001b[0m in \u001b[0;36m_make_request\u001b[1;34m(self, conn, method, url, timeout, chunked, **httplib_request_kw)\u001b[0m\n\u001b[0;32m    438\u001b[0m                 \u001b[1;31m# Python 3\u001b[0m\u001b[1;33m\u001b[0m\u001b[1;33m\u001b[0m\u001b[0m\n\u001b[0;32m    439\u001b[0m                 \u001b[1;32mtry\u001b[0m\u001b[1;33m:\u001b[0m\u001b[1;33m\u001b[0m\u001b[1;33m\u001b[0m\u001b[0m\n\u001b[1;32m--> 440\u001b[1;33m                     \u001b[0mhttplib_response\u001b[0m \u001b[1;33m=\u001b[0m \u001b[0mconn\u001b[0m\u001b[1;33m.\u001b[0m\u001b[0mgetresponse\u001b[0m\u001b[1;33m(\u001b[0m\u001b[1;33m)\u001b[0m\u001b[1;33m\u001b[0m\u001b[1;33m\u001b[0m\u001b[0m\n\u001b[0m\u001b[0;32m    441\u001b[0m                 \u001b[1;32mexcept\u001b[0m \u001b[0mBaseException\u001b[0m \u001b[1;32mas\u001b[0m \u001b[0me\u001b[0m\u001b[1;33m:\u001b[0m\u001b[1;33m\u001b[0m\u001b[1;33m\u001b[0m\u001b[0m\n\u001b[0;32m    442\u001b[0m                     \u001b[1;31m# Remove the TypeError from the exception chain in\u001b[0m\u001b[1;33m\u001b[0m\u001b[1;33m\u001b[0m\u001b[0m\n",
      "\u001b[1;32mc:\\Users\\dangt\\AppData\\Local\\Programs\\Python\\Python310\\lib\\http\\client.py\u001b[0m in \u001b[0;36mgetresponse\u001b[1;34m(self)\u001b[0m\n\u001b[0;32m   1366\u001b[0m         \u001b[1;32mtry\u001b[0m\u001b[1;33m:\u001b[0m\u001b[1;33m\u001b[0m\u001b[1;33m\u001b[0m\u001b[0m\n\u001b[0;32m   1367\u001b[0m             \u001b[1;32mtry\u001b[0m\u001b[1;33m:\u001b[0m\u001b[1;33m\u001b[0m\u001b[1;33m\u001b[0m\u001b[0m\n\u001b[1;32m-> 1368\u001b[1;33m                 \u001b[0mresponse\u001b[0m\u001b[1;33m.\u001b[0m\u001b[0mbegin\u001b[0m\u001b[1;33m(\u001b[0m\u001b[1;33m)\u001b[0m\u001b[1;33m\u001b[0m\u001b[1;33m\u001b[0m\u001b[0m\n\u001b[0m\u001b[0;32m   1369\u001b[0m             \u001b[1;32mexcept\u001b[0m \u001b[0mConnectionError\u001b[0m\u001b[1;33m:\u001b[0m\u001b[1;33m\u001b[0m\u001b[1;33m\u001b[0m\u001b[0m\n\u001b[0;32m   1370\u001b[0m                 \u001b[0mself\u001b[0m\u001b[1;33m.\u001b[0m\u001b[0mclose\u001b[0m\u001b[1;33m(\u001b[0m\u001b[1;33m)\u001b[0m\u001b[1;33m\u001b[0m\u001b[1;33m\u001b[0m\u001b[0m\n",
      "\u001b[1;32mc:\\Users\\dangt\\AppData\\Local\\Programs\\Python\\Python310\\lib\\http\\client.py\u001b[0m in \u001b[0;36mbegin\u001b[1;34m(self)\u001b[0m\n\u001b[0;32m    315\u001b[0m         \u001b[1;31m# read until we get a non-100 response\u001b[0m\u001b[1;33m\u001b[0m\u001b[1;33m\u001b[0m\u001b[0m\n\u001b[0;32m    316\u001b[0m         \u001b[1;32mwhile\u001b[0m \u001b[1;32mTrue\u001b[0m\u001b[1;33m:\u001b[0m\u001b[1;33m\u001b[0m\u001b[1;33m\u001b[0m\u001b[0m\n\u001b[1;32m--> 317\u001b[1;33m             \u001b[0mversion\u001b[0m\u001b[1;33m,\u001b[0m \u001b[0mstatus\u001b[0m\u001b[1;33m,\u001b[0m \u001b[0mreason\u001b[0m \u001b[1;33m=\u001b[0m \u001b[0mself\u001b[0m\u001b[1;33m.\u001b[0m\u001b[0m_read_status\u001b[0m\u001b[1;33m(\u001b[0m\u001b[1;33m)\u001b[0m\u001b[1;33m\u001b[0m\u001b[1;33m\u001b[0m\u001b[0m\n\u001b[0m\u001b[0;32m    318\u001b[0m             \u001b[1;32mif\u001b[0m \u001b[0mstatus\u001b[0m \u001b[1;33m!=\u001b[0m \u001b[0mCONTINUE\u001b[0m\u001b[1;33m:\u001b[0m\u001b[1;33m\u001b[0m\u001b[1;33m\u001b[0m\u001b[0m\n\u001b[0;32m    319\u001b[0m                 \u001b[1;32mbreak\u001b[0m\u001b[1;33m\u001b[0m\u001b[1;33m\u001b[0m\u001b[0m\n",
      "\u001b[1;32mc:\\Users\\dangt\\AppData\\Local\\Programs\\Python\\Python310\\lib\\http\\client.py\u001b[0m in \u001b[0;36m_read_status\u001b[1;34m(self)\u001b[0m\n\u001b[0;32m    276\u001b[0m \u001b[1;33m\u001b[0m\u001b[0m\n\u001b[0;32m    277\u001b[0m     \u001b[1;32mdef\u001b[0m \u001b[0m_read_status\u001b[0m\u001b[1;33m(\u001b[0m\u001b[0mself\u001b[0m\u001b[1;33m)\u001b[0m\u001b[1;33m:\u001b[0m\u001b[1;33m\u001b[0m\u001b[1;33m\u001b[0m\u001b[0m\n\u001b[1;32m--> 278\u001b[1;33m         \u001b[0mline\u001b[0m \u001b[1;33m=\u001b[0m \u001b[0mstr\u001b[0m\u001b[1;33m(\u001b[0m\u001b[0mself\u001b[0m\u001b[1;33m.\u001b[0m\u001b[0mfp\u001b[0m\u001b[1;33m.\u001b[0m\u001b[0mreadline\u001b[0m\u001b[1;33m(\u001b[0m\u001b[0m_MAXLINE\u001b[0m \u001b[1;33m+\u001b[0m \u001b[1;36m1\u001b[0m\u001b[1;33m)\u001b[0m\u001b[1;33m,\u001b[0m \u001b[1;34m\"iso-8859-1\"\u001b[0m\u001b[1;33m)\u001b[0m\u001b[1;33m\u001b[0m\u001b[1;33m\u001b[0m\u001b[0m\n\u001b[0m\u001b[0;32m    279\u001b[0m         \u001b[1;32mif\u001b[0m \u001b[0mlen\u001b[0m\u001b[1;33m(\u001b[0m\u001b[0mline\u001b[0m\u001b[1;33m)\u001b[0m \u001b[1;33m>\u001b[0m \u001b[0m_MAXLINE\u001b[0m\u001b[1;33m:\u001b[0m\u001b[1;33m\u001b[0m\u001b[1;33m\u001b[0m\u001b[0m\n\u001b[0;32m    280\u001b[0m             \u001b[1;32mraise\u001b[0m \u001b[0mLineTooLong\u001b[0m\u001b[1;33m(\u001b[0m\u001b[1;34m\"status line\"\u001b[0m\u001b[1;33m)\u001b[0m\u001b[1;33m\u001b[0m\u001b[1;33m\u001b[0m\u001b[0m\n",
      "\u001b[1;32mc:\\Users\\dangt\\AppData\\Local\\Programs\\Python\\Python310\\lib\\socket.py\u001b[0m in \u001b[0;36mreadinto\u001b[1;34m(self, b)\u001b[0m\n\u001b[0;32m    703\u001b[0m         \u001b[1;32mwhile\u001b[0m \u001b[1;32mTrue\u001b[0m\u001b[1;33m:\u001b[0m\u001b[1;33m\u001b[0m\u001b[1;33m\u001b[0m\u001b[0m\n\u001b[0;32m    704\u001b[0m             \u001b[1;32mtry\u001b[0m\u001b[1;33m:\u001b[0m\u001b[1;33m\u001b[0m\u001b[1;33m\u001b[0m\u001b[0m\n\u001b[1;32m--> 705\u001b[1;33m                 \u001b[1;32mreturn\u001b[0m \u001b[0mself\u001b[0m\u001b[1;33m.\u001b[0m\u001b[0m_sock\u001b[0m\u001b[1;33m.\u001b[0m\u001b[0mrecv_into\u001b[0m\u001b[1;33m(\u001b[0m\u001b[0mb\u001b[0m\u001b[1;33m)\u001b[0m\u001b[1;33m\u001b[0m\u001b[1;33m\u001b[0m\u001b[0m\n\u001b[0m\u001b[0;32m    706\u001b[0m             \u001b[1;32mexcept\u001b[0m \u001b[0mtimeout\u001b[0m\u001b[1;33m:\u001b[0m\u001b[1;33m\u001b[0m\u001b[1;33m\u001b[0m\u001b[0m\n\u001b[0;32m    707\u001b[0m                 \u001b[0mself\u001b[0m\u001b[1;33m.\u001b[0m\u001b[0m_timeout_occurred\u001b[0m \u001b[1;33m=\u001b[0m \u001b[1;32mTrue\u001b[0m\u001b[1;33m\u001b[0m\u001b[1;33m\u001b[0m\u001b[0m\n",
      "\u001b[1;31mKeyboardInterrupt\u001b[0m: "
     ]
    }
   ],
   "source": [
    "\n",
    "i = 0\n",
    "# Duyệt qua từng link và lấy thông tin\n",
    "for link in links:\n",
    "        # Mở trang web\n",
    "    driver.get('https://www.leagueofgraphs.com/'+ link)\n",
    "\n",
    "        # Chờ cho trang web tải xong\n",
    "    driver.implicitly_wait(10)\n",
    "\n",
    "        # Lấy HTML của trang web\n",
    "    html = driver.page_source\n",
    "\n",
    "        # Phân tích HTML bằng BeautifulSoup\n",
    "    soup = BeautifulSoup(html, 'html.parser')\n",
    "\n",
    "    # lst = get_champion_name(soup)\n",
    "    # for my_tuple in lst:\n",
    "    #     lane = my_tuple[0] # lấy phần tử đầu tiên trong tuple\n",
    "    #     champion_name = my_tuple[1] # lấy phần tử thứ hai trong tuple\n",
    "    #     df[lane][i] = champion_name\n",
    "    \n",
    "    get_KDA_All_Lane(i, soup)\n",
    "    \n",
    "    # my_string = ''.join(map(str, get_Gold(soup)))\n",
    "    # my_list = json.loads(my_string)\n",
    "    # my_element = my_list[20][1]\n",
    "    # df['gold_difference_at_20_minutes'][i] = my_element\n",
    "\n",
    "    # df['turret_difference_at_20_minutes'][i] = get_Turret(soup)\n",
    "\n",
    "    # df['dragon_difference_at_20_minutes'][i] = get_Dragon_Count(soup)\n",
    "\n",
    "    # kda_blue, kda_red = get_KDA(soup)\n",
    "    # df['KDA_blue'][i] = kda_blue\n",
    "    # df['KDA_red'][i] = kda_red\n",
    "\n",
    "    # df['Team_Win'][i] = get_teamWin(soup)\n",
    "\n",
    "    # blue_rift_heralds, red_rift_heralds = get_Rift_Heralds_killed(soup)\n",
    "    # df.loc[i, 'Blue_Heralds_killed'] = blue_rift_heralds\n",
    "    # df.loc[i, 'Red_Heralds_killed'] = red_rift_heralds\n",
    "\n",
    "    print(str(i)+ \" done\");\n",
    "    i = i + 1\n",
    "    df.to_csv('data_no_duplicates.csv', index=False)\n",
    "\n",
    "# Đóng trình duyệt\n",
    "driver.quit()\n"
   ]
  },
  {
   "cell_type": "code",
   "execution_count": null,
   "metadata": {},
   "outputs": [],
   "source": [
    "# import pandas as pd\n",
    "\n",
    "# # Load the CSV file into a DataFrame\n",
    "# df = pd.read_csv('data_no_duplicates.csv')\n",
    "\n",
    "# # Add the new columns with empty values\n",
    "# df['top_blue'] = ''\n",
    "# df['top_red'] = ''\n",
    "# df['jung_blue'] = ''\n",
    "# df['jung_red'] = ''\n",
    "# df['mid_blue'] = ''\n",
    "# df['mid_red'] = ''\n",
    "# df['ad_blue'] = ''\n",
    "# df['ad_red'] = ''\n",
    "# df['support_blue'] = ''\n",
    "# df['support_red'] = ''\n",
    "# df['gold_difference_at_20_minutes'] = ''\n",
    "# df['turret_difference_at_20_minutes'] = ''\n",
    "# df['dragon_difference_at_20_minutes'] = ''\n",
    "# df['KDA_blue'] = ''\n",
    "# df['KDA_red'] = ''\n",
    "# df['Blue_Heralds_killed'] = ''\n",
    "# df['Red_Heralds_killed'] = ''\n",
    "# df['Team_Win'] = ''\n",
    "\n",
    "# # Save the modified DataFrame back to the CSV file\n",
    "# df.to_csv('data_no_duplicates.csv', index=False)\n"
   ]
  },
  {
   "cell_type": "code",
   "execution_count": null,
   "metadata": {},
   "outputs": [],
   "source": []
  }
 ],
 "metadata": {
  "kernelspec": {
   "display_name": "Python 3",
   "language": "python",
   "name": "python3"
  },
  "language_info": {
   "codemirror_mode": {
    "name": "ipython",
    "version": 3
   },
   "file_extension": ".py",
   "mimetype": "text/x-python",
   "name": "python",
   "nbconvert_exporter": "python",
   "pygments_lexer": "ipython3",
   "version": "3.10.0"
  },
  "orig_nbformat": 4
 },
 "nbformat": 4,
 "nbformat_minor": 2
}
