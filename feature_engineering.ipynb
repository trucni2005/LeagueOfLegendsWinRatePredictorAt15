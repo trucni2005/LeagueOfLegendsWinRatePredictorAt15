{
 "cells": [
  {
   "cell_type": "code",
   "execution_count": 214,
   "metadata": {},
   "outputs": [],
   "source": [
    "import pandas as pd\n",
    "from collections import defaultdict\n",
    "import csv\n",
    "from matplotlib import pyplot as plt"
   ]
  },
  {
   "attachments": {},
   "cell_type": "markdown",
   "metadata": {},
   "source": [
    "**Đọc file clean data** "
   ]
  },
  {
   "cell_type": "code",
   "execution_count": 215,
   "metadata": {},
   "outputs": [],
   "source": [
    "df = pd.read_csv('data/clean data.csv')"
   ]
  },
  {
   "attachments": {},
   "cell_type": "markdown",
   "metadata": {},
   "source": [
    "**Thêm các cột chênh lệch về rồng, sứ giả, trụ phút thứ 15 và chênh lệch về kda (kil - death - assist) giữa các đường**"
   ]
  },
  {
   "cell_type": "code",
   "execution_count": 216,
   "metadata": {},
   "outputs": [],
   "source": [
    "df[\"herald_difference\"] = df[\"blue_heralds\"] - df[\"red_heralds\"]\n",
    "df[\"dragon_difference\"] = df[\"dragon_blue\"] - df[\"dragon_red\"]\n",
    "df[\"turret_difference\"] = df[\"turret_blue\"] - df[\"turret_red\"]\n",
    "\n",
    "df[\"kda_difference_top\"] = df[\"kda_top_blue\"] - df[\"kda_top_red\"]\n",
    "df[\"kda_difference_jungle\"] = df[\"kda_jungle_blue\"] - df[\"kda_jungle_red\"]\n",
    "df[\"kda_difference_mid\"] = df[\"kda_mid_blue\"] - df[\"kda_mid_red\"]\n",
    "df[\"kda_difference_ad\"] = df[\"kda_ad_blue\"] - df[\"kda_ad_red\"]\n",
    "df[\"kda_difference_sp\"] = df[\"kda_sp_blue\"] - df[\"kda_sp_red\"]"
   ]
  },
  {
   "attachments": {},
   "cell_type": "markdown",
   "metadata": {},
   "source": [
    "**Xóa những cột dư thừa sau khi tính chênh lệch**"
   ]
  },
  {
   "cell_type": "code",
   "execution_count": 217,
   "metadata": {},
   "outputs": [],
   "source": [
    "df = df.drop(['kda_top_blue', 'kda_top_red', 'kda_jungle_blue', 'kda_jungle_red', 'kda_mid_blue', 'kda_mid_red', \n",
    "              'kda_ad_blue', 'kda_ad_red', 'kda_sp_blue', 'kda_sp_red', 'link','dragon_blue', 'dragon_red', 'turret_blue', \n",
    "              'turret_red', 'blue_heralds', 'red_heralds'], axis=1)"
   ]
  },
  {
   "attachments": {},
   "cell_type": "markdown",
   "metadata": {},
   "source": [
    "**Làm 1 dictionary về dữ liệu: tướng - vị trí đi đường - vai trò bằng data_champions.csv thu thập được**"
   ]
  },
  {
   "cell_type": "code",
   "execution_count": 218,
   "metadata": {},
   "outputs": [],
   "source": [
    "# Đọc dữ liệu từ tệp data_champions.csv và tạo từ điển champions_dict\n",
    "data_champions = pd.read_csv('data/data_champions.csv')\n",
    "champions_dict = {}\n",
    "for index, row in data_champions.iterrows():\n",
    "    champion = row['Champions']\n",
    "    lane = row['Lane']\n",
    "    role = row['Role']\n",
    "    if champion in champions_dict:\n",
    "        champions_dict[champion]['Lane'].append(lane)\n",
    "        champions_dict[champion]['Role'].append(role)\n",
    "    else:\n",
    "        champions_dict[champion] = {'Lane': [lane], 'Role': [role]}"
   ]
  },
  {
   "attachments": {},
   "cell_type": "markdown",
   "metadata": {},
   "source": [
    "**Thêm các cột phân loại tướng các đường dựa trên dictionary vừa tạo**"
   ]
  },
  {
   "cell_type": "code",
   "execution_count": 219,
   "metadata": {},
   "outputs": [],
   "source": [
    "# Duyệt từng hàng trong data_done.csv\n",
    "for index, row in df.iterrows():\n",
    "    # Duyệt từng cột tên tướng và trích xuất thông tin về lane và role tương ứng\n",
    "    for column in ['top_blue', 'top_red', 'jung_blue', 'jung_red', 'mid_blue', 'mid_red', 'ad_blue', 'ad_red', 'support_blue', 'support_red']:\n",
    "        champion_name = row[column]\n",
    "        if champion_name not in champions_dict:\n",
    "            print(f\"Warning: Champion {champion_name} not found in champions_dict\")\n",
    "            continue\n",
    "        lanes = champions_dict[champion_name]['Lane']\n",
    "        roles = champions_dict[champion_name]['Role']\n",
    "        lane_col = f\"{column}_lane\"\n",
    "        role_col = f\"{column}_role\"\n",
    "        df.at[index, lane_col] = ','.join(lanes)\n",
    "        df.at[index, role_col] = ','.join(roles)"
   ]
  },
  {
   "attachments": {},
   "cell_type": "markdown",
   "metadata": {},
   "source": [
    "**Lưu vào file data mới**"
   ]
  },
  {
   "cell_type": "code",
   "execution_count": 220,
   "metadata": {},
   "outputs": [],
   "source": [
    "df.to_csv('data/data_fe.csv', index=False)"
   ]
  },
  {
   "attachments": {},
   "cell_type": "markdown",
   "metadata": {},
   "source": [
    "**Tính điểm đội hình dựa trên lane, role: nếu có các vị trí, vai trò chính và cần thiết thì +1.**\n",
    "**Nếu đội hình bị sai/ thừa/ thiếu vị trí thì điểm sẽ thấp hơn những đội hình đầy đủ**"
   ]
  },
  {
   "attachments": {},
   "cell_type": "markdown",
   "metadata": {},
   "source": [
    "1. Đọc file data feature engineering"
   ]
  },
  {
   "cell_type": "code",
   "execution_count": 221,
   "metadata": {},
   "outputs": [],
   "source": [
    "df = pd.read_csv(\"data/data_fe.csv\")"
   ]
  },
  {
   "attachments": {},
   "cell_type": "markdown",
   "metadata": {},
   "source": [
    "2. Duyệt từng hàng, tính điểm cho từng đường và từng vị trí của 2 đội, sau đó cộng vào để lấy điểm tổng của cả 2 đội"
   ]
  },
  {
   "cell_type": "code",
   "execution_count": 222,
   "metadata": {},
   "outputs": [],
   "source": [
    "# duyệt từng hàng của dataframe\n",
    "for index, row in df.iterrows():\n",
    "    score_blue = 0\n",
    "    score_red = 0\n",
    "    # kiểm tra lane của các vị trí của đội blue\n",
    "    if row['top_blue_lane'] == 'top':\n",
    "        score_blue += 1\n",
    "    if row['jung_blue_lane'] == 'jungle':\n",
    "        score_blue += 1\n",
    "    if row['mid_blue_lane'] == 'mid':\n",
    "        score_blue += 1\n",
    "    if row['ad_blue_lane'] == 'adc':\n",
    "        score_blue += 1\n",
    "    if row['support_blue_lane'] == 'support':\n",
    "        score_blue += 1\n",
    "    # kiểm tra lane của các vị trí của đội red\n",
    "    if row['top_red_lane'] == 'top':\n",
    "        score_red += 1\n",
    "    if row['jung_red_lane'] == 'jungle':\n",
    "        score_red += 1\n",
    "    if row['mid_red_lane'] == 'mid':\n",
    "        score_red += 1\n",
    "    if row['ad_red_lane'] == 'adc':\n",
    "        score_red += 1\n",
    "    if row['support_red_lane'] == 'support':\n",
    "        score_red += 1\n",
    "    df.loc[index, 'score_blue'] = score_blue\n",
    "    df.loc[index, 'score_red'] = score_red\n",
    "\n",
    "    score_blue_role = {'Marksman': 0, 'Fighter': 0, 'Tank': 0, 'Assassin': 0, 'Mage': 0, 'Support': 0}\n",
    "    score_red_role = {'Marksman': 0, 'Fighter': 0, 'Tank': 0, 'Assassin': 0, 'Mage': 0, 'Support': 0}\n",
    "    for position in ['top_blue_role', 'jung_blue_role', 'mid_blue_role', 'ad_blue_role', 'support_blue_role']:\n",
    "        role = row[position]\n",
    "        if role == 'Marksman':\n",
    "            score_blue_role['Marksman'] = 1\n",
    "        elif role == 'Fighter':\n",
    "            score_blue_role['Fighter'] = 1\n",
    "        elif role == 'Tank':\n",
    "            score_blue_role['Tank'] = 1\n",
    "        elif role == 'Assassin':\n",
    "            score_blue_role['Assassin'] = 1\n",
    "        elif role == 'Mage':\n",
    "            score_blue_role['Mage'] = 1\n",
    "        elif role == 'Support':\n",
    "            score_blue_role['Support'] = 1\n",
    "    # kiểm tra role của các vị trí của đội red\n",
    "    for position in ['top_red_role', 'jung_red_role', 'mid_red_role', 'ad_red_role', 'support_red_role']:\n",
    "        role = row[position]\n",
    "        if role == 'Marksman':\n",
    "            score_red_role['Marksman'] = 1\n",
    "        elif role == 'Fighter':\n",
    "            score_red_role['Fighter'] = 1\n",
    "        elif role == 'Tank':\n",
    "            score_red_role['Tank'] = 1\n",
    "        elif role == 'Assassin':\n",
    "            score_red_role['Assassin'] = 1\n",
    "        elif role == 'Mage':\n",
    "            score_red_role['Mage'] = 1\n",
    "        elif role == 'Support':\n",
    "            score_red_role['Support'] = 1\n",
    "    # lưu score_blue_role, score_red_role vào 2 cột\n",
    "    df.loc[index, 'score_blue_role'] = sum(score_blue_role.values())\n",
    "    df.loc[index, 'score_red_role'] = sum(score_red_role.values())"
   ]
  },
  {
   "attachments": {},
   "cell_type": "markdown",
   "metadata": {},
   "source": [
    "3. Lưu điểm vào file csv"
   ]
  },
  {
   "cell_type": "code",
   "execution_count": 223,
   "metadata": {},
   "outputs": [],
   "source": [
    "df.to_csv('data/data_fe.csv', index=False)"
   ]
  },
  {
   "attachments": {},
   "cell_type": "markdown",
   "metadata": {},
   "source": [
    "4. Tính chênh lệch điểm giữa 2 đội "
   ]
  },
  {
   "cell_type": "code",
   "execution_count": 224,
   "metadata": {},
   "outputs": [],
   "source": [
    "df[\"score_lane\"] = df[\"score_blue\"] - df[\"score_red\"]\n",
    "df[\"score_role\"] = df[\"score_blue_role\"] - df[\"score_red_role\"]"
   ]
  },
  {
   "attachments": {},
   "cell_type": "markdown",
   "metadata": {},
   "source": [
    "5. Xóa các cột dư thừa sau khi tính chênh lệch"
   ]
  },
  {
   "cell_type": "code",
   "execution_count": 225,
   "metadata": {},
   "outputs": [],
   "source": [
    "df = df.drop(['top_blue_lane', 'top_red_lane', 'jung_blue_lane', 'jung_red_lane', 'mid_blue_lane', 'mid_red_lane', 'ad_blue_lane', \n",
    "              'ad_red_lane', 'support_blue_lane', 'support_red_lane', 'top_blue_role', 'top_red_role', 'jung_blue_role', 'jung_red_role', \n",
    "              'mid_blue_role', 'mid_red_role', 'ad_blue_role', 'ad_red_role', 'support_blue_role', 'support_red_role', 'score_blue'\n",
    "              , 'score_red' ,'score_blue_role' , 'score_red_role'], axis=1)"
   ]
  },
  {
   "attachments": {},
   "cell_type": "markdown",
   "metadata": {},
   "source": [
    "5. Lưu lại data vào data_fe.csv (data feature engineering)"
   ]
  },
  {
   "cell_type": "code",
   "execution_count": 226,
   "metadata": {},
   "outputs": [],
   "source": [
    "df.to_csv(\"data/data_fe.csv\", index=False)"
   ]
  },
  {
   "attachments": {},
   "cell_type": "markdown",
   "metadata": {},
   "source": [
    "**Chia 10k dữ liệu thành 10 file, mỗi file 1k**"
   ]
  },
  {
   "cell_type": "code",
   "execution_count": 227,
   "metadata": {},
   "outputs": [],
   "source": [
    "df = pd.read_csv('data/data_fe.csv')\n",
    "\n",
    "# Drop các cột bị dư thừa\n",
    "df = df.drop(['top_blue', 'top_red', 'jung_blue', 'jung_red', 'mid_blue', 'mid_red', 'ad_blue', 'ad_red', 'support_blue', 'support_red'], axis=1)\n",
    "\n",
    "# Chuyển đổi team thắng sang 0 1 để dùng model dự đoán\n",
    "df['team_win'] = df['team_win'].replace({'blue': 1, 'red': 0})\n",
    "\n",
    "# Lưu dữ liệu trộn vào file CSV\n",
    "df.to_csv('data/data_fe.csv', index=False)"
   ]
  },
  {
   "cell_type": "code",
   "execution_count": 228,
   "metadata": {},
   "outputs": [],
   "source": [
    "for i in range(10):\n",
    "    start_index = i * 1000\n",
    "    end_index = start_index + 1000\n",
    "    df_subset = df.iloc[start_index:end_index, :]\n",
    "    filename = f\"data/data extracted/data_fe_1000_part_{i+1}.csv\"\n",
    "    df_subset.to_csv(filename, index=False)"
   ]
  },
  {
   "attachments": {},
   "cell_type": "markdown",
   "metadata": {},
   "source": [
    "**Viết thêm 1 bộ dữ liệu có xử lý ngoại lệ để so sánh và lựa chọn**"
   ]
  },
  {
   "attachments": {},
   "cell_type": "markdown",
   "metadata": {},
   "source": [
    "*Vẽ phân bố của chênh lệch vàng phút 15 trước khi xử lý ngoại lệ*"
   ]
  },
  {
   "cell_type": "code",
   "execution_count": 229,
   "metadata": {},
   "outputs": [
    {
     "data": {
      "image/png": "[encoded data removed]",
      "text/plain": [
       "<Figure size 432x288 with 1 Axes>"
      ]
     },
     "metadata": {
      "needs_background": "light"
     },
     "output_type": "display_data"
    }
   ],
   "source": [
    "# Đọc dữ liệu từ file csv vào DataFrame\n",
    "\n",
    "df = pd.read_csv(\"data/data_fe.csv\")\n",
    "\n",
    "# Lấy cột \"gold_difference\"\n",
    "gold_diff = df[\"gold_difference\"]\n",
    "\n",
    "# Vẽ biểu đồ phân bố dữ liệu\n",
    "plt.hist(gold_diff, bins=20, color='steelblue', edgecolor='black')\n",
    "\n",
    "# Thiết lập tiêu đề và nhãn trục\n",
    "plt.title(\"Phân bố dữ liệu của gold_difference\")\n",
    "plt.xlabel(\"Gold Difference\")\n",
    "plt.ylabel(\"Frequency\")\n",
    "\n",
    "# Hiển thị biểu đồ\n",
    "plt.show()"
   ]
  },
  {
   "attachments": {},
   "cell_type": "markdown",
   "metadata": {},
   "source": [
    "*Vẽ phân bố và chênh lệch vàng sau khi xử lý ngoại lệ*"
   ]
  },
  {
   "cell_type": "code",
   "execution_count": 230,
   "metadata": {},
   "outputs": [
    {
     "data": {
      "image/png": "[encoded data removed]",
      "text/plain": [
       "<Figure size 432x288 with 1 Axes>"
      ]
     },
     "metadata": {
      "needs_background": "light"
     },
     "output_type": "display_data"
    }
   ],
   "source": [
    "# Lấy cột \"gold_difference\"\n",
    "gold_diff = df[\"gold_difference\"]\n",
    "\n",
    "# Tính toán giá trị trung bình và độ lệch chuẩn\n",
    "mean = gold_diff.mean()\n",
    "std = gold_diff.std()\n",
    "\n",
    "# Định nghĩa giới hạn trên và dưới dựa trên độ lệch chuẩn (ví dụ: 3 độ lệch chuẩn)\n",
    "threshold = 3\n",
    "lower_bound = mean - (threshold * std)\n",
    "upper_bound = mean + (threshold * std)\n",
    "\n",
    "# Loại bỏ các giá trị ngoại lệ\n",
    "gold_diff_cleaned = gold_diff[(gold_diff >= lower_bound) & (gold_diff <= upper_bound)]\n",
    "df_cleaned = df[(df[\"gold_difference\"] >= lower_bound) & (df[\"gold_difference\"] <= upper_bound)]\n",
    "\n",
    "# Lưu DataFrame mới vào file CSV\n",
    "df_cleaned.to_csv(\"data/data_fe_cleaned.csv\", index=False)\n",
    "\n",
    "# Vẽ biểu đồ phân bố dữ liệu sau khi xử lý ngoại lệ\n",
    "plt.hist(gold_diff_cleaned, bins=20, color='steelblue', edgecolor='black')\n",
    "plt.title(\"Phân bố dữ liệu của gold_difference (sau khi xử lý ngoại lệ)\")\n",
    "plt.xlabel(\"Gold Difference\")\n",
    "plt.ylabel(\"Frequency\")\n",
    "\n",
    "plt.show()"
   ]
  }
 ],
 "metadata": {
  "kernelspec": {
   "display_name": "Python 3",
   "language": "python",
   "name": "python3"
  },
  "language_info": {
   "codemirror_mode": {
    "name": "ipython",
    "version": 3
   },
   "file_extension": ".py",
   "mimetype": "text/x-python",
   "name": "python",
   "nbconvert_exporter": "python",
   "pygments_lexer": "ipython3",
   "version": "3.10.0"
  },
  "orig_nbformat": 4
 },
 "nbformat": 4,
 "nbformat_minor": 2
}
