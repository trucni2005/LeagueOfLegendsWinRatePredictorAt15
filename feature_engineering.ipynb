{
 "cells": [
  {
   "cell_type": "code",
   "execution_count": 15,
   "metadata": {},
   "outputs": [],
   "source": [
    "import pandas as pd\n",
    "from collections import defaultdict\n",
    "import csv"
   ]
  },
  {
   "cell_type": "code",
   "execution_count": 16,
   "metadata": {},
   "outputs": [],
   "source": [
    "import pandas as pd\n",
    "\n",
    "# Đọc dữ liệu từ file CSV\n",
    "data = pd.read_csv('clean data.csv')\n",
    "\n",
    "# Trộn các hàng trong dữ liệu\n",
    "shuffled_data = data.sample(frac=1)\n",
    "\n",
    "# Lưu dữ liệu trộn vào file CSV\n",
    "shuffled_data.to_csv('file_shuffled.csv', index=False)\n"
   ]
  },
  {
   "attachments": {},
   "cell_type": "markdown",
   "metadata": {},
   "source": [
    "**Đọc file clean data** "
   ]
  },
  {
   "cell_type": "code",
   "execution_count": 17,
   "metadata": {},
   "outputs": [],
   "source": [
    "df = pd.read_csv('clean data.csv')"
   ]
  },
  {
   "attachments": {},
   "cell_type": "markdown",
   "metadata": {},
   "source": [
    "**Thêm các cột chênh lệch về rồng, sứ giả, trụ phút thứ 15 và chênh lệch về kda (kil - death - assist) giữa các đường**"
   ]
  },
  {
   "cell_type": "code",
   "execution_count": 18,
   "metadata": {},
   "outputs": [],
   "source": [
    "df[\"herald_difference\"] = df[\"blue_heralds\"] - df[\"red_heralds\"]\n",
    "df[\"dragon_difference\"] = df[\"dragon_blue\"] - df[\"dragon_red\"]\n",
    "df[\"turret_difference\"] = df[\"turret_blue\"] - df[\"turret_red\"]\n",
    "\n",
    "df[\"kda_difference_top\"] = df[\"kda_top_blue\"] - df[\"kda_top_red\"]\n",
    "df[\"kda_difference_jungle\"] = df[\"kda_jungle_blue\"] - df[\"kda_jungle_red\"]\n",
    "df[\"kda_difference_mid\"] = df[\"kda_mid_blue\"] - df[\"kda_mid_red\"]\n",
    "df[\"kda_difference_ad\"] = df[\"kda_ad_blue\"] - df[\"kda_ad_red\"]\n",
    "df[\"kda_difference_sp\"] = df[\"kda_sp_blue\"] - df[\"kda_sp_red\"]"
   ]
  },
  {
   "attachments": {},
   "cell_type": "markdown",
   "metadata": {},
   "source": [
    "**Xóa những cột dư thừa sau khi tính chênh lệch**"
   ]
  },
  {
   "cell_type": "code",
   "execution_count": 19,
   "metadata": {},
   "outputs": [],
   "source": [
    "df = df.drop(['kda_top_blue', 'kda_top_red', 'kda_jungle_blue', 'kda_jungle_red', 'kda_mid_blue', 'kda_mid_red', \n",
    "              'kda_ad_blue', 'kda_ad_red', 'kda_sp_blue', 'kda_sp_red', 'link','dragon_blue', 'dragon_red', 'turret_blue', \n",
    "              'turret_red', 'blue_heralds', 'red_heralds'], axis=1)"
   ]
  },
  {
   "attachments": {},
   "cell_type": "markdown",
   "metadata": {},
   "source": [
    "**Làm 1 dictionary về dữ liệu: tướng - vị trí đi đường - vai trò bằng data_champions.csv thu thập được**"
   ]
  },
  {
   "cell_type": "code",
   "execution_count": 20,
   "metadata": {},
   "outputs": [],
   "source": [
    "# Đọc dữ liệu từ tệp data_champions.csv và tạo từ điển champions_dict\n",
    "data_champions = pd.read_csv('data_champions.csv')\n",
    "champions_dict = {}\n",
    "for index, row in data_champions.iterrows():\n",
    "    champion = row['Champions']\n",
    "    lane = row['Lane']\n",
    "    role = row['Role']\n",
    "    if champion in champions_dict:\n",
    "        champions_dict[champion]['Lane'].append(lane)\n",
    "        champions_dict[champion]['Role'].append(role)\n",
    "    else:\n",
    "        champions_dict[champion] = {'Lane': [lane], 'Role': [role]}"
   ]
  },
  {
   "attachments": {},
   "cell_type": "markdown",
   "metadata": {},
   "source": [
    "**Thêm các cột phân loại tướng các đường dựa trên dictionary vừa tạo**"
   ]
  },
  {
   "cell_type": "code",
   "execution_count": 21,
   "metadata": {},
   "outputs": [],
   "source": [
    "# Duyệt từng hàng trong data_done.csv\n",
    "for index, row in df.iterrows():\n",
    "    # Duyệt từng cột tên tướng và trích xuất thông tin về lane và role tương ứng\n",
    "    for column in ['top_blue', 'top_red', 'jung_blue', 'jung_red', 'mid_blue', 'mid_red', 'ad_blue', 'ad_red', 'support_blue', 'support_red']:\n",
    "        champion_name = row[column]\n",
    "        if champion_name not in champions_dict:\n",
    "            print(f\"Warning: Champion {champion_name} not found in champions_dict\")\n",
    "            continue\n",
    "        lanes = champions_dict[champion_name]['Lane']\n",
    "        roles = champions_dict[champion_name]['Role']\n",
    "        lane_col = f\"{column}_lane\"\n",
    "        role_col = f\"{column}_role\"\n",
    "        df.at[index, lane_col] = ','.join(lanes)\n",
    "        df.at[index, role_col] = ','.join(roles)"
   ]
  },
  {
   "attachments": {},
   "cell_type": "markdown",
   "metadata": {},
   "source": [
    "**Lưu vào file data mới**"
   ]
  },
  {
   "cell_type": "code",
   "execution_count": 22,
   "metadata": {},
   "outputs": [],
   "source": [
    "df.to_csv('data_fe.csv', index=False)"
   ]
  },
  {
   "attachments": {},
   "cell_type": "markdown",
   "metadata": {},
   "source": [
    "**Tính điểm đội hình dựa trên lane, role: nếu có các vị trí, vai trò chính và cần thiết thì +1.**\n",
    "**Nếu đội hình bị sai/ thừa/ thiếu vị trí thì điểm sẽ thấp hơn những đội hình đầy đủ**"
   ]
  },
  {
   "attachments": {},
   "cell_type": "markdown",
   "metadata": {},
   "source": [
    "1. Đọc file data feature engineering"
   ]
  },
  {
   "cell_type": "code",
   "execution_count": 23,
   "metadata": {},
   "outputs": [],
   "source": [
    "df.to_csv('data_fe.csv', index=False)"
   ]
  },
  {
   "attachments": {},
   "cell_type": "markdown",
   "metadata": {},
   "source": [
    "2. Duyệt từng hàng, tính điểm cho từng đường và từng vị trí của 2 đội, sau đó cộng vào để lấy điểm tổng của cả 2 đội"
   ]
  },
  {
   "cell_type": "code",
   "execution_count": 24,
   "metadata": {},
   "outputs": [],
   "source": [
    "# duyệt từng hàng của dataframe\n",
    "for index, row in df.iterrows():\n",
    "    score_blue = 0\n",
    "    score_red = 0\n",
    "    # kiểm tra lane của các vị trí của đội blue\n",
    "    if row['top_blue_lane'] == 'top':\n",
    "        score_blue += 1\n",
    "    if row['jung_blue_lane'] == 'jungle':\n",
    "        score_blue += 1\n",
    "    if row['mid_blue_lane'] == 'mid':\n",
    "        score_blue += 1\n",
    "    if row['ad_blue_lane'] == 'adc':\n",
    "        score_blue += 1\n",
    "    if row['support_blue_lane'] == 'support':\n",
    "        score_blue += 1\n",
    "    # kiểm tra lane của các vị trí của đội red\n",
    "    if row['top_red_lane'] == 'top':\n",
    "        score_red += 1\n",
    "    if row['jung_red_lane'] == 'jungle':\n",
    "        score_red += 1\n",
    "    if row['mid_red_lane'] == 'mid':\n",
    "        score_red += 1\n",
    "    if row['ad_red_lane'] == 'adc':\n",
    "        score_red += 1\n",
    "    if row['support_red_lane'] == 'support':\n",
    "        score_red += 1\n",
    "    df.loc[index, 'score_blue'] = score_blue\n",
    "    df.loc[index, 'score_red'] = score_red\n",
    "\n",
    "    score_blue_role = {'Marksman': 0, 'Fighter': 0, 'Tank': 0, 'Assassin': 0, 'Mage': 0, 'Support': 0}\n",
    "    score_red_role = {'Marksman': 0, 'Fighter': 0, 'Tank': 0, 'Assassin': 0, 'Mage': 0, 'Support': 0}\n",
    "    for position in ['top_blue_role', 'jung_blue_role', 'mid_blue_role', 'ad_blue_role', 'support_blue_role']:\n",
    "        role = row[position]\n",
    "        if role == 'Marksman':\n",
    "            score_blue_role['Marksman'] = 1\n",
    "        elif role == 'Fighter':\n",
    "            score_blue_role['Fighter'] = 1\n",
    "        elif role == 'Tank':\n",
    "            score_blue_role['Tank'] = 1\n",
    "        elif role == 'Assassin':\n",
    "            score_blue_role['Assassin'] = 1\n",
    "        elif role == 'Mage':\n",
    "            score_blue_role['Mage'] = 1\n",
    "        elif role == 'Support':\n",
    "            score_blue_role['Support'] = 1\n",
    "    # kiểm tra role của các vị trí của đội red\n",
    "    for position in ['top_red_role', 'jung_red_role', 'mid_red_role', 'ad_red_role', 'support_red_role']:\n",
    "        role = row[position]\n",
    "        if role == 'Marksman':\n",
    "            score_red_role['Marksman'] = 1\n",
    "        elif role == 'Fighter':\n",
    "            score_red_role['Fighter'] = 1\n",
    "        elif role == 'Tank':\n",
    "            score_red_role['Tank'] = 1\n",
    "        elif role == 'Assassin':\n",
    "            score_red_role['Assassin'] = 1\n",
    "        elif role == 'Mage':\n",
    "            score_red_role['Mage'] = 1\n",
    "        elif role == 'Support':\n",
    "            score_red_role['Support'] = 1\n",
    "    # lưu score_blue_role, score_red_role vào 2 cột\n",
    "    df.loc[index, 'score_blue_role'] = sum(score_blue_role.values())\n",
    "    df.loc[index, 'score_red_role'] = sum(score_red_role.values())\n",
    "\n",
    "df.to_csv('data_done.csv', index=False)"
   ]
  },
  {
   "attachments": {},
   "cell_type": "markdown",
   "metadata": {},
   "source": [
    "3. Tính chênh lệch điểm giữa 2 đội "
   ]
  },
  {
   "cell_type": "code",
   "execution_count": 25,
   "metadata": {},
   "outputs": [],
   "source": [
    "df[\"score_lane\"] = df[\"score_blue\"] - df[\"score_red\"]\n",
    "df[\"score_role\"] = df[\"score_blue_role\"] - df[\"score_red_role\"]"
   ]
  },
  {
   "attachments": {},
   "cell_type": "markdown",
   "metadata": {},
   "source": [
    "4. Xóa các cột dư thừa sau khi tính chênh lệch"
   ]
  },
  {
   "cell_type": "code",
   "execution_count": 26,
   "metadata": {},
   "outputs": [],
   "source": [
    "df = df.drop(['top_blue_lane', 'top_red_lane', 'jung_blue_lane', 'jung_red_lane', 'mid_blue_lane', 'mid_red_lane', 'ad_blue_lane', \n",
    "              'ad_red_lane', 'support_blue_lane', 'support_red_lane', 'top_blue_role', 'top_red_role', 'jung_blue_role', 'jung_red_role', \n",
    "              'mid_blue_role', 'mid_red_role', 'ad_blue_role', 'ad_red_role', 'support_blue_role', 'support_red_role', 'score_blue'\n",
    "              , 'score_red' ,'score_blue_role' , 'score_red_role'], axis=1)"
   ]
  },
  {
   "attachments": {},
   "cell_type": "markdown",
   "metadata": {},
   "source": [
    "5. Lưu lại data vào data_fe.csv (data feature engineering)"
   ]
  },
  {
   "cell_type": "code",
   "execution_count": 27,
   "metadata": {},
   "outputs": [],
   "source": [
    "df.to_csv(\"data_fe.csv\", index=False)"
   ]
  },
  {
   "attachments": {},
   "cell_type": "markdown",
   "metadata": {},
   "source": [
    "**Tính điểm chênh lệch tỉ lệ thắng dựa vào việc lựa chọn đội hình**"
   ]
  },
  {
   "attachments": {},
   "cell_type": "markdown",
   "metadata": {},
   "source": [
    "1. Viết dictionary tổng trận thắng và tổng trận đấu của từng tướng/ vị trí đi đường"
   ]
  },
  {
   "cell_type": "code",
   "execution_count": 28,
   "metadata": {},
   "outputs": [],
   "source": [
    "winrates = defaultdict(lambda: {position: {\"total_played\": 0, \"total_wins\": 0} for position in [\"top\", \"jung\", \"mid\", \"ad\", \"support\"]})"
   ]
  },
  {
   "cell_type": "code",
   "execution_count": 29,
   "metadata": {},
   "outputs": [],
   "source": [
    "for position in [\"top\", \"jung\", \"mid\", \"ad\", \"support\"]:\n",
    "    for index, row in df.iterrows():\n",
    "        for team_name in [\"blue\", \"red\"]:\n",
    "            position_col = f\"{position}_{team_name}\"            \n",
    "            champions = row[position_col].split(\",\")\n",
    "            \n",
    "            for champion in champions:\n",
    "                winrates[champion][position][\"total_played\"] += 1\n",
    "                if row[\"team_win\"] == team_name:\n",
    "                    winrates[champion][position][\"total_wins\"] += 1"
   ]
  },
  {
   "attachments": {},
   "cell_type": "markdown",
   "metadata": {},
   "source": [
    "2. Tính tỉ lệ thắng = số trận thắng/ tổng số trận đấu của từng tướng/ vị trí đi đường và lưu vào file winrate.csv"
   ]
  },
  {
   "cell_type": "code",
   "execution_count": 30,
   "metadata": {},
   "outputs": [],
   "source": [
    "header = [\"champion\", \"lane\", \"winrate\"]\n",
    "\n",
    "# Define the file name and open it in write mode\n",
    "filename = \"winrates.csv\"\n",
    "with open(filename, mode='w', newline='') as file:\n",
    "\n",
    "    # Create a CSV writer object and write the header\n",
    "    writer = csv.writer(file)\n",
    "    writer.writerow(header)\n",
    "\n",
    "    # Loop through the `winrates` dictionary and write the data to the CSV file\n",
    "    for champion, positions in winrates.items():\n",
    "        for lane, data in positions.items():\n",
    "            total_played = data[\"total_played\"]\n",
    "            total_wins = data[\"total_wins\"]\n",
    "            winrate = round((total_wins / total_played) * 100, 2) if total_played > 10 else 0.5\n",
    "            writer.writerow([champion, lane, winrate])"
   ]
  },
  {
   "attachments": {},
   "cell_type": "markdown",
   "metadata": {},
   "source": [
    "3. Đọc data feature engineering"
   ]
  },
  {
   "cell_type": "code",
   "execution_count": 31,
   "metadata": {},
   "outputs": [],
   "source": [
    "datadone = []\n",
    "with open('data_fe.csv', mode='r') as csvfile:\n",
    "    reader = csv.DictReader(csvfile)\n",
    "    for row in reader:\n",
    "        datadone.append(row)\n",
    "winrates = {}\n",
    "with open('winrates.csv', mode='r') as csvfile:\n",
    "    reader = csv.DictReader(csvfile)\n",
    "    for row in reader:\n",
    "        winrates[(row['champion'], row['lane'])] = row['winrate']"
   ]
  },
  {
   "attachments": {},
   "cell_type": "markdown",
   "metadata": {},
   "source": [
    "4. Thay các cột vị trí đường của 2 đội từ tên tướng sang tỉ lệ thắng của tướng đó dựa vào tên tướng/lane trong dictionary"
   ]
  },
  {
   "cell_type": "code",
   "execution_count": 32,
   "metadata": {},
   "outputs": [],
   "source": [
    "for row in datadone:\n",
    "        row['top_blue'] = winrates.get((row['top_blue'], 'top'))\n",
    "        row['top_red'] = winrates.get((row['top_red'], 'top'))\n",
    "        row['jung_blue'] = winrates.get((row['jung_blue'], 'jung'))\n",
    "        row['jung_red'] = winrates.get((row['jung_red'], 'jung'))\n",
    "        row['mid_blue'] = winrates.get((row['mid_blue'], 'mid'))\n",
    "        row['mid_red'] = winrates.get((row['mid_red'], 'mid'))\n",
    "        row['ad_blue'] = winrates.get((row['ad_blue'], 'ad'))\n",
    "        row['ad_red'] = winrates.get((row['ad_red'], 'ad'))\n",
    "        row['support_blue'] = winrates.get((row['support_blue'], 'support'))\n",
    "        row['support_red'] = winrates.get((row['support_red'], 'support'))"
   ]
  },
  {
   "attachments": {},
   "cell_type": "markdown",
   "metadata": {},
   "source": [
    "5. Viết thay đổi vào file data"
   ]
  },
  {
   "cell_type": "code",
   "execution_count": 33,
   "metadata": {},
   "outputs": [],
   "source": [
    "with open('data_fe.csv', mode='w', newline='') as csvfile:\n",
    "    fieldnames = datadone[0].keys()\n",
    "    writer = csv.DictWriter(csvfile, fieldnames=fieldnames)\n",
    "    writer.writeheader()\n",
    "    for row in datadone:\n",
    "        writer.writerow(row)"
   ]
  },
  {
   "attachments": {},
   "cell_type": "markdown",
   "metadata": {},
   "source": [
    "6. Đọc data thay đổi"
   ]
  },
  {
   "cell_type": "code",
   "execution_count": 34,
   "metadata": {},
   "outputs": [],
   "source": [
    "df = pd.read_csv('data_fe.csv')"
   ]
  },
  {
   "attachments": {},
   "cell_type": "markdown",
   "metadata": {},
   "source": [
    "7. Tính chênh lệch tỉ lệ thắng của 2 đội dựa trên tỉ lệ thắng của từng tướng"
   ]
  },
  {
   "cell_type": "code",
   "execution_count": 35,
   "metadata": {},
   "outputs": [],
   "source": [
    "df[\"win_score_difference\"] = df[\"top_blue\"] + df[\"jung_blue\"] + df[\"mid_blue\"] + df[\"ad_blue\"] + df[\"support_blue\"] - df[\"top_red\"] - df[\"jung_red\"] - df[\"mid_red\"] - df[\"ad_red\"] - df[\"support_red\"]"
   ]
  },
  {
   "attachments": {},
   "cell_type": "markdown",
   "metadata": {},
   "source": [
    "8. Xóa các cột dư thừa sau khi tính chênh lệch"
   ]
  },
  {
   "cell_type": "code",
   "execution_count": 36,
   "metadata": {},
   "outputs": [],
   "source": [
    "df = df.drop(['top_blue','top_red', 'mid_blue', 'mid_red', 'jung_blue','jung_red','ad_blue','ad_red','support_blue','support_red'], axis=1)"
   ]
  },
  {
   "attachments": {},
   "cell_type": "markdown",
   "metadata": {},
   "source": [
    "9. Thay cột teamwin thành 1(blue), 0(red) rồi lưu thay đổi vào file data.csv"
   ]
  },
  {
   "cell_type": "code",
   "execution_count": 37,
   "metadata": {},
   "outputs": [],
   "source": [
    "df['team_win'] = df['team_win'].replace({'blue': 1, 'red': 0})\n",
    "df.to_csv(\"data_fe.csv\", index=False)"
   ]
  },
  {
   "attachments": {},
   "cell_type": "markdown",
   "metadata": {},
   "source": [
    "**Chia 10k dữ liệu thành 10 file, mỗi file 1k**"
   ]
  },
  {
   "cell_type": "code",
   "execution_count": 38,
   "metadata": {},
   "outputs": [],
   "source": [
    "for i in range(10):\n",
    "    start_index = i * 1000\n",
    "    end_index = start_index + 1000\n",
    "    df_subset = df.iloc[start_index:end_index, :]\n",
    "    filename = f\"data_fe_1000_part_{i+1}.csv\"\n",
    "    df_subset.to_csv(filename, index=False)"
   ]
  }
 ],
 "metadata": {
  "kernelspec": {
   "display_name": "Python 3",
   "language": "python",
   "name": "python3"
  },
  "language_info": {
   "codemirror_mode": {
    "name": "ipython",
    "version": 3
   },
   "file_extension": ".py",
   "mimetype": "text/x-python",
   "name": "python",
   "nbconvert_exporter": "python",
   "pygments_lexer": "ipython3",
   "version": "3.10.0"
  },
  "orig_nbformat": 4
 },
 "nbformat": 4,
 "nbformat_minor": 2
}
