{
 "cells": [
  {
   "attachments": {},
   "cell_type": "markdown",
   "metadata": {},
   "source": [
    "**CRAW LINK TRẬN ĐẤU LIÊN MINH HUYỀN THOẠI**"
   ]
  },
  {
   "cell_type": "code",
   "execution_count": 1,
   "metadata": {},
   "outputs": [
    {
     "name": "stdout",
     "output_type": "stream",
     "text": [
      "https://www.leagueofgraphs.com/replays/all/oce/short/sr-ranked\n",
      "/match/oce/570545427\n",
      "/match/oce/570548110\n",
      "/match/oce/570538257\n",
      "/match/oce/570532456\n",
      "/match/oce/570515815\n",
      "https://www.leagueofgraphs.com/replays/all/oce/medium/sr-ranked\n",
      "/match/oce/570541728\n",
      "/match/oce/570538874\n",
      "/match/oce/570542127\n",
      "/match/oce/570531450\n",
      "/match/oce/570524554\n"
     ]
    }
   ],
   "source": [
    "import csv\n",
    "from bs4 import BeautifulSoup\n",
    "from selenium import webdriver\n",
    "from selenium.webdriver.chrome.options import Options\n",
    "\n",
    "# Khai báo tên file csv và các trường sẽ được lưu vào file\n",
    "filename = './data_craw/data_add.csv'\n",
    "fields = ['link']\n",
    "\n",
    "# Khai báo danh sách server & rank & duration\n",
    "servers = [ 'oce', 'ph', 'ru', 'sg', 'th', 'tr', 'tw', 'vn','br', 'eune', 'euw', 'jp', 'kr', 'lan', 'las', 'na']\n",
    "durations = [ 'short','medium']\n",
    "#'long'\n",
    "driver = webdriver.Chrome()\n",
    "count = 0\n",
    "tag_break = False\n",
    "with open(filename, 'w', newline='') as csvfile:\n",
    "    writer = csv.DictWriter(csvfile, fieldnames=fields)\n",
    "    writer.writeheader()\n",
    "    # Lặp qua tất cả các server và rank\n",
    "    for server in servers:\n",
    "        # Tạo link\n",
    "        for i in range(10):\n",
    "            for duration in durations:\n",
    "                link = f'https://www.leagueofgraphs.com/replays/all/{server}/{duration}/sr-ranked'\n",
    "                if (i==0):\n",
    "                    url = link\n",
    "                else:\n",
    "                    url = link + f'/page-{i+1}'\n",
    "                # Mở trang web\n",
    "                print(url)\n",
    "                driver.get(url)\n",
    "\n",
    "                # Chờ cho trang web tải xong\n",
    "                driver.implicitly_wait(20)\n",
    "\n",
    "                # Lấy HTML của trang web \n",
    "                html = driver.page_source\n",
    "\n",
    "                # Phân tích HTML bằng BeautifulSoup và lấy thông tin cần thiết\n",
    "                soup = BeautifulSoup(html, 'html.parser')\n",
    "                        \n",
    "                # Tìm tất cả các thẻ a chứa link và ghi vào file csv\n",
    "                th_tags = soup.find_all('th', {'class': 'text-left-dark-only'})\n",
    "                for th_tag in th_tags:\n",
    "                    a_tag = th_tag.find('a')\n",
    "                    if a_tag:\n",
    "                        href = a_tag['href']\n",
    "                        print(href)\n",
    "                        writer.writerow({'link': href})\n",
    "                count = count+1\n",
    "                if (count==2):\n",
    "                    tag_break = True\n",
    "                    break\n",
    "            if (tag_break): break\n",
    "        if (tag_break): break                           \n",
    "    \n",
    "    # Đóng trình duyệt\n",
    "    driver.quit()\n",
    "\n"
   ]
  }
 ],
 "metadata": {
  "kernelspec": {
   "display_name": "Python 3",
   "language": "python",
   "name": "python3"
  },
  "language_info": {
   "codemirror_mode": {
    "name": "ipython",
    "version": 3
   },
   "file_extension": ".py",
   "mimetype": "text/x-python",
   "name": "python",
   "nbconvert_exporter": "python",
   "pygments_lexer": "ipython3",
   "version": "3.10.10"
  },
  "orig_nbformat": 4
 },
 "nbformat": 4,
 "nbformat_minor": 2
}
