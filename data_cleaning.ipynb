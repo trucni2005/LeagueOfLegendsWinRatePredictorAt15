{
 "cells": [
  {
   "cell_type": "code",
   "execution_count": null,
   "metadata": {},
   "outputs": [],
   "source": [
    "import pandas as pd"
   ]
  },
  {
   "attachments": {},
   "cell_type": "markdown",
   "metadata": {},
   "source": [
    " **1. Làm sạch dữ liệu: xóa các dòng trùng nhau, xóa các hàng có dữ liệu trống, copy sang 1 file data mới để tránh ảnh hưởng đến data ban đầu**"
   ]
  },
  {
   "cell_type": "code",
   "execution_count": null,
   "metadata": {},
   "outputs": [],
   "source": [
    "# Đọc file CSV vào dataframe\n",
    "df = pd.read_csv('raw data.csv')\n",
    "\n",
    "# Xóa các dòng trùng nhau dựa trên cột \"link\"\n",
    "df.drop_duplicates(subset=['link'], inplace=True)\n",
    "\n",
    "df = df.dropna(axis=0)\n",
    "\n",
    "# Lưu lại vào file CSV\n",
    "df.to_csv('clean data.csv', index=False)"
   ]
  }
 ],
 "metadata": {
  "language_info": {
   "name": "python"
  },
  "orig_nbformat": 4
 },
 "nbformat": 4,
 "nbformat_minor": 2
}
