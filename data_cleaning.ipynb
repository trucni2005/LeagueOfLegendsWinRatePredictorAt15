{
 "cells": [
  {
   "cell_type": "code",
   "execution_count": 18,
   "metadata": {},
   "outputs": [],
   "source": [
    "import pandas as pd"
   ]
  },
  {
   "attachments": {},
   "cell_type": "markdown",
   "metadata": {},
   "source": [
    " **1. Làm sạch dữ liệu: xóa các dòng trùng nhau, xóa các hàng có dữ liệu trống, copy sang 1 file data mới để tránh ảnh hưởng đến data ban đầu**"
   ]
  },
  {
   "cell_type": "code",
   "execution_count": 21,
   "metadata": {},
   "outputs": [],
   "source": [
    "# Đọc file CSV vào dataframe\n",
    "df = pd.read_csv('data/raw data.csv')\n",
    "\n",
    "# Xóa các dòng trùng nhau dựa trên cột \"link\"\n",
    "df.drop_duplicates(subset=['link'], inplace=True)\n",
    "\n",
    "df = df.dropna(axis=0)\n",
    "\n",
    "# Lưu lại vào file CSV\n",
    "df.to_csv('data/clean data.csv', index=False)"
   ]
  }
 ],
 "metadata": {
  "kernelspec": {
   "display_name": "Python 3",
   "language": "python",
   "name": "python3"
  },
  "language_info": {
   "codemirror_mode": {
    "name": "ipython",
    "version": 3
   },
   "file_extension": ".py",
   "mimetype": "text/x-python",
   "name": "python",
   "nbconvert_exporter": "python",
   "pygments_lexer": "ipython3",
   "version": "3.10.0"
  },
  "orig_nbformat": 4
 },
 "nbformat": 4,
 "nbformat_minor": 2
}
