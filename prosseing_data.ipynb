{
 "cells": [
  {
   "cell_type": "code",
   "execution_count": 125,
   "metadata": {},
   "outputs": [],
   "source": [
    "import pandas as pd\n",
    "import numpy as np\n",
    "from sklearn.metrics import accuracy_score\n",
    "from sklearn.model_selection import train_test_split, KFold\n",
    "from sklearn.preprocessing import MinMaxScaler, MaxAbsScaler, StandardScaler, RobustScaler, Normalizer, QuantileTransformer, PowerTransformer\n",
    "from sklearn.ensemble import RandomForestClassifier\n",
    "from sklearn.feature_selection import RFE\n",
    "from xgboost import XGBClassifier\n",
    "from sklearn.ensemble import RandomForestClassifier\n",
    "from sklearn.linear_model import LogisticRegression\n",
    "from sklearn.tree import DecisionTreeClassifier\n",
    "from sklearn.model_selection import StratifiedKFold\n",
    "from sklearn.linear_model import LogisticRegression\n",
    "from sklearn.tree import DecisionTreeClassifier\n",
    "from sklearn.ensemble import RandomForestClassifier, GradientBoostingClassifier, AdaBoostClassifier, BaggingClassifier\n",
    "from sklearn.neighbors import KNeighborsClassifier\n",
    "from sklearn.naive_bayes import GaussianNB\n",
    "from sklearn.svm import SVC\n",
    "from sklearn.neural_network import MLPClassifier\n",
    "from sklearn.discriminant_analysis import LinearDiscriminantAnalysis\n",
    "from xgboost import XGBClassifier"
   ]
  },
  {
   "attachments": {},
   "cell_type": "markdown",
   "metadata": {},
   "source": [
    "# Làm sạch dữ liệu"
   ]
  },
  {
   "cell_type": "code",
   "execution_count": 126,
   "metadata": {},
   "outputs": [],
   "source": [
    "# Đọc file CSV vào dataframe\n",
    "df = pd.read_csv('data0205.csv')\n",
    "\n",
    "# Xóa các dòng trùng nhau dựa trên cột \"link\"\n",
    "df.drop_duplicates(subset=['link'], inplace=True)\n",
    "\n",
    "# Lưu lại vào file CSV\n",
    "df.to_csv('data_done.csv', index=False)"
   ]
  },
  {
   "cell_type": "code",
   "execution_count": 127,
   "metadata": {},
   "outputs": [],
   "source": [
    "df = pd.read_csv(\"data_done.csv\")"
   ]
  },
  {
   "attachments": {},
   "cell_type": "markdown",
   "metadata": {},
   "source": [
    "# Tạo đặc trưng mới"
   ]
  },
  {
   "cell_type": "code",
   "execution_count": 128,
   "metadata": {},
   "outputs": [],
   "source": [
    "df[\"herald_difference\"] = df[\"blue_heralds\"] - df[\"red_heralds\"]\n",
    "df[\"dragon_difference\"] = df[\"dragon_blue\"] - df[\"dragon_red\"]\n",
    "df[\"turret_difference\"] = df[\"turret_blue\"] - df[\"turret_red\"]\n",
    "\n",
    "df[\"kda_difference_top\"] = df[\"kda_top_blue\"] - df[\"kda_top_red\"]\n",
    "df[\"kda_difference_jungle\"] = df[\"kda_jungle_blue\"] - df[\"kda_jungle_red\"]\n",
    "df[\"kda_difference_mid\"] = df[\"kda_mid_blue\"] - df[\"kda_mid_red\"]\n",
    "df[\"kda_difference_ad\"] = df[\"kda_ad_blue\"] - df[\"kda_ad_red\"]\n",
    "df[\"kda_difference_sp\"] = df[\"kda_sp_blue\"] - df[\"kda_sp_red\"]"
   ]
  },
  {
   "attachments": {},
   "cell_type": "markdown",
   "metadata": {},
   "source": [
    "# Xóa các cột không cần thiết"
   ]
  },
  {
   "cell_type": "code",
   "execution_count": 129,
   "metadata": {},
   "outputs": [],
   "source": [
    "df = df.drop(['kda_top_blue', 'kda_top_red', 'kda_jungle_blue', 'kda_jungle_red', 'kda_mid_blue', 'kda_mid_red', 'kda_ad_blue', 'kda_ad_red', 'kda_sp_blue', 'kda_sp_red',\n",
    "              'link','dragon_blue', 'dragon_red', 'turret_blue', 'turret_red', 'blue_heralds', 'red_heralds','top_blue','top_red', 'mid_blue', 'mid_red','jung_blue','jung_red','ad_blue','ad_red','support_blue','support_red'], axis=1)\n",
    "df['team_win'] = df['team_win'].replace({'blue': 1, 'red': 0})\n",
    "df.to_csv(\"processed_data.csv\", index=False)\n",
    "\n",
    "dt = df.head(1000)\n",
    "dt.to_csv(\"processed_data_1ksamples.csv\", index=False)\n"
   ]
  },
  {
   "cell_type": "code",
   "execution_count": 130,
   "metadata": {},
   "outputs": [],
   "source": [
    "data = pd.read_csv(\"processed_data.csv\")"
   ]
  },
  {
   "cell_type": "code",
   "execution_count": 131,
   "metadata": {},
   "outputs": [],
   "source": [
    "# Tách dữ liệu thành tập X và tập y\n",
    "X = data.drop('team_win', axis=1)\n",
    "y = data['team_win']"
   ]
  },
  {
   "cell_type": "code",
   "execution_count": 132,
   "metadata": {},
   "outputs": [],
   "source": [
    "# Khởi tạo cross-validation\n",
    "kf = KFold(n_splits=5, shuffle=True, random_state=42)"
   ]
  },
  {
   "cell_type": "code",
   "execution_count": 133,
   "metadata": {},
   "outputs": [],
   "source": [
    "# Standardization techniques\n",
    "scalers = [MinMaxScaler(), MaxAbsScaler(), StandardScaler(), RobustScaler(), Normalizer(), QuantileTransformer(), PowerTransformer()]"
   ]
  },
  {
   "cell_type": "code",
   "execution_count": 134,
   "metadata": {},
   "outputs": [],
   "source": [
    "models = [        LogisticRegression(random_state=42),        DecisionTreeClassifier(random_state=42),        RandomForestClassifier(random_state=42),        KNeighborsClassifier(),        GaussianNB(),        SVC(random_state=42),        MLPClassifier(random_state=42),        GradientBoostingClassifier(random_state=42),        AdaBoostClassifier(random_state=42),        BaggingClassifier(random_state=42),        LinearDiscriminantAnalysis(),    XGBClassifier(random_state=42)]"
   ]
  },
  {
   "cell_type": "code",
   "execution_count": 135,
   "metadata": {},
   "outputs": [],
   "source": [
    "acc_scores = {type(model).__name__: [] for model in models}"
   ]
  },
  {
   "cell_type": "code",
   "execution_count": 136,
   "metadata": {},
   "outputs": [
    {
     "name": "stderr",
     "output_type": "stream",
     "text": [
      "c:\\Users\\dangt\\AppData\\Local\\Programs\\Python\\Python310\\lib\\site-packages\\sklearn\\neural_network\\_multilayer_perceptron.py:686: ConvergenceWarning: Stochastic Optimizer: Maximum iterations (200) reached and the optimization hasn't converged yet.\n",
      "  warnings.warn(\n",
      "c:\\Users\\dangt\\AppData\\Local\\Programs\\Python\\Python310\\lib\\site-packages\\sklearn\\neural_network\\_multilayer_perceptron.py:686: ConvergenceWarning: Stochastic Optimizer: Maximum iterations (200) reached and the optimization hasn't converged yet.\n",
      "  warnings.warn(\n",
      "c:\\Users\\dangt\\AppData\\Local\\Programs\\Python\\Python310\\lib\\site-packages\\sklearn\\neural_network\\_multilayer_perceptron.py:686: ConvergenceWarning: Stochastic Optimizer: Maximum iterations (200) reached and the optimization hasn't converged yet.\n",
      "  warnings.warn(\n",
      "c:\\Users\\dangt\\AppData\\Local\\Programs\\Python\\Python310\\lib\\site-packages\\sklearn\\neural_network\\_multilayer_perceptron.py:686: ConvergenceWarning: Stochastic Optimizer: Maximum iterations (200) reached and the optimization hasn't converged yet.\n",
      "  warnings.warn(\n",
      "c:\\Users\\dangt\\AppData\\Local\\Programs\\Python\\Python310\\lib\\site-packages\\sklearn\\neural_network\\_multilayer_perceptron.py:686: ConvergenceWarning: Stochastic Optimizer: Maximum iterations (200) reached and the optimization hasn't converged yet.\n",
      "  warnings.warn(\n",
      "c:\\Users\\dangt\\AppData\\Local\\Programs\\Python\\Python310\\lib\\site-packages\\sklearn\\neural_network\\_multilayer_perceptron.py:686: ConvergenceWarning: Stochastic Optimizer: Maximum iterations (200) reached and the optimization hasn't converged yet.\n",
      "  warnings.warn(\n",
      "c:\\Users\\dangt\\AppData\\Local\\Programs\\Python\\Python310\\lib\\site-packages\\sklearn\\neural_network\\_multilayer_perceptron.py:686: ConvergenceWarning: Stochastic Optimizer: Maximum iterations (200) reached and the optimization hasn't converged yet.\n",
      "  warnings.warn(\n",
      "c:\\Users\\dangt\\AppData\\Local\\Programs\\Python\\Python310\\lib\\site-packages\\sklearn\\neural_network\\_multilayer_perceptron.py:686: ConvergenceWarning: Stochastic Optimizer: Maximum iterations (200) reached and the optimization hasn't converged yet.\n",
      "  warnings.warn(\n",
      "c:\\Users\\dangt\\AppData\\Local\\Programs\\Python\\Python310\\lib\\site-packages\\sklearn\\neural_network\\_multilayer_perceptron.py:686: ConvergenceWarning: Stochastic Optimizer: Maximum iterations (200) reached and the optimization hasn't converged yet.\n",
      "  warnings.warn(\n",
      "c:\\Users\\dangt\\AppData\\Local\\Programs\\Python\\Python310\\lib\\site-packages\\sklearn\\neural_network\\_multilayer_perceptron.py:686: ConvergenceWarning: Stochastic Optimizer: Maximum iterations (200) reached and the optimization hasn't converged yet.\n",
      "  warnings.warn(\n",
      "c:\\Users\\dangt\\AppData\\Local\\Programs\\Python\\Python310\\lib\\site-packages\\sklearn\\neural_network\\_multilayer_perceptron.py:686: ConvergenceWarning: Stochastic Optimizer: Maximum iterations (200) reached and the optimization hasn't converged yet.\n",
      "  warnings.warn(\n",
      "c:\\Users\\dangt\\AppData\\Local\\Programs\\Python\\Python310\\lib\\site-packages\\sklearn\\neural_network\\_multilayer_perceptron.py:686: ConvergenceWarning: Stochastic Optimizer: Maximum iterations (200) reached and the optimization hasn't converged yet.\n",
      "  warnings.warn(\n",
      "c:\\Users\\dangt\\AppData\\Local\\Programs\\Python\\Python310\\lib\\site-packages\\sklearn\\neural_network\\_multilayer_perceptron.py:686: ConvergenceWarning: Stochastic Optimizer: Maximum iterations (200) reached and the optimization hasn't converged yet.\n",
      "  warnings.warn(\n",
      "c:\\Users\\dangt\\AppData\\Local\\Programs\\Python\\Python310\\lib\\site-packages\\sklearn\\neural_network\\_multilayer_perceptron.py:686: ConvergenceWarning: Stochastic Optimizer: Maximum iterations (200) reached and the optimization hasn't converged yet.\n",
      "  warnings.warn(\n",
      "c:\\Users\\dangt\\AppData\\Local\\Programs\\Python\\Python310\\lib\\site-packages\\sklearn\\neural_network\\_multilayer_perceptron.py:686: ConvergenceWarning: Stochastic Optimizer: Maximum iterations (200) reached and the optimization hasn't converged yet.\n",
      "  warnings.warn(\n",
      "c:\\Users\\dangt\\AppData\\Local\\Programs\\Python\\Python310\\lib\\site-packages\\sklearn\\neural_network\\_multilayer_perceptron.py:686: ConvergenceWarning: Stochastic Optimizer: Maximum iterations (200) reached and the optimization hasn't converged yet.\n",
      "  warnings.warn(\n",
      "c:\\Users\\dangt\\AppData\\Local\\Programs\\Python\\Python310\\lib\\site-packages\\sklearn\\neural_network\\_multilayer_perceptron.py:686: ConvergenceWarning: Stochastic Optimizer: Maximum iterations (200) reached and the optimization hasn't converged yet.\n",
      "  warnings.warn(\n",
      "c:\\Users\\dangt\\AppData\\Local\\Programs\\Python\\Python310\\lib\\site-packages\\sklearn\\neural_network\\_multilayer_perceptron.py:686: ConvergenceWarning: Stochastic Optimizer: Maximum iterations (200) reached and the optimization hasn't converged yet.\n",
      "  warnings.warn(\n",
      "c:\\Users\\dangt\\AppData\\Local\\Programs\\Python\\Python310\\lib\\site-packages\\sklearn\\neural_network\\_multilayer_perceptron.py:686: ConvergenceWarning: Stochastic Optimizer: Maximum iterations (200) reached and the optimization hasn't converged yet.\n",
      "  warnings.warn(\n",
      "c:\\Users\\dangt\\AppData\\Local\\Programs\\Python\\Python310\\lib\\site-packages\\sklearn\\neural_network\\_multilayer_perceptron.py:686: ConvergenceWarning: Stochastic Optimizer: Maximum iterations (200) reached and the optimization hasn't converged yet.\n",
      "  warnings.warn(\n",
      "c:\\Users\\dangt\\AppData\\Local\\Programs\\Python\\Python310\\lib\\site-packages\\sklearn\\neural_network\\_multilayer_perceptron.py:686: ConvergenceWarning: Stochastic Optimizer: Maximum iterations (200) reached and the optimization hasn't converged yet.\n",
      "  warnings.warn(\n",
      "c:\\Users\\dangt\\AppData\\Local\\Programs\\Python\\Python310\\lib\\site-packages\\sklearn\\neural_network\\_multilayer_perceptron.py:686: ConvergenceWarning: Stochastic Optimizer: Maximum iterations (200) reached and the optimization hasn't converged yet.\n",
      "  warnings.warn(\n",
      "c:\\Users\\dangt\\AppData\\Local\\Programs\\Python\\Python310\\lib\\site-packages\\sklearn\\neural_network\\_multilayer_perceptron.py:686: ConvergenceWarning: Stochastic Optimizer: Maximum iterations (200) reached and the optimization hasn't converged yet.\n",
      "  warnings.warn(\n",
      "c:\\Users\\dangt\\AppData\\Local\\Programs\\Python\\Python310\\lib\\site-packages\\sklearn\\neural_network\\_multilayer_perceptron.py:686: ConvergenceWarning: Stochastic Optimizer: Maximum iterations (200) reached and the optimization hasn't converged yet.\n",
      "  warnings.warn(\n",
      "c:\\Users\\dangt\\AppData\\Local\\Programs\\Python\\Python310\\lib\\site-packages\\sklearn\\neural_network\\_multilayer_perceptron.py:686: ConvergenceWarning: Stochastic Optimizer: Maximum iterations (200) reached and the optimization hasn't converged yet.\n",
      "  warnings.warn(\n",
      "c:\\Users\\dangt\\AppData\\Local\\Programs\\Python\\Python310\\lib\\site-packages\\sklearn\\neural_network\\_multilayer_perceptron.py:686: ConvergenceWarning: Stochastic Optimizer: Maximum iterations (200) reached and the optimization hasn't converged yet.\n",
      "  warnings.warn(\n"
     ]
    },
    {
     "name": "stdout",
     "output_type": "stream",
     "text": [
      "LogisticRegression (MinMaxScaler): 76.1815%\n",
      "LogisticRegression (MaxAbsScaler): 76.2313%\n",
      "LogisticRegression (StandardScaler): 76.1914%\n",
      "LogisticRegression (RobustScaler): 76.2213%\n",
      "LogisticRegression (Normalizer): 75.2343%\n",
      "LogisticRegression (QuantileTransformer): 76.1815%\n",
      "LogisticRegression (PowerTransformer): 76.2612%\n",
      "DecisionTreeClassifier (MinMaxScaler): 67.7866%\n",
      "DecisionTreeClassifier (MaxAbsScaler): 67.8365%\n",
      "DecisionTreeClassifier (StandardScaler): 67.7767%\n",
      "DecisionTreeClassifier (RobustScaler): 67.7966%\n",
      "DecisionTreeClassifier (Normalizer): 67.0090%\n",
      "DecisionTreeClassifier (QuantileTransformer): 67.6171%\n",
      "DecisionTreeClassifier (PowerTransformer): 67.8166%\n",
      "RandomForestClassifier (MinMaxScaler): 75.2443%\n",
      "RandomForestClassifier (MaxAbsScaler): 75.2941%\n",
      "RandomForestClassifier (StandardScaler): 75.3041%\n",
      "RandomForestClassifier (RobustScaler): 75.2941%\n",
      "RandomForestClassifier (Normalizer): 74.8056%\n",
      "RandomForestClassifier (QuantileTransformer): 75.1246%\n",
      "RandomForestClassifier (PowerTransformer): 75.2542%\n",
      "KNeighborsClassifier (MinMaxScaler): 72.0339%\n",
      "KNeighborsClassifier (MaxAbsScaler): 72.1336%\n",
      "KNeighborsClassifier (StandardScaler): 71.4257%\n",
      "KNeighborsClassifier (RobustScaler): 71.6550%\n",
      "KNeighborsClassifier (Normalizer): 73.2502%\n",
      "KNeighborsClassifier (QuantileTransformer): 72.2233%\n",
      "KNeighborsClassifier (PowerTransformer): 71.4058%\n",
      "GaussianNB (MinMaxScaler): 75.5434%\n",
      "GaussianNB (MaxAbsScaler): 75.5434%\n",
      "GaussianNB (StandardScaler): 75.5434%\n",
      "GaussianNB (RobustScaler): 75.5434%\n",
      "GaussianNB (Normalizer): 75.3938%\n",
      "GaussianNB (QuantileTransformer): 75.3938%\n",
      "GaussianNB (PowerTransformer): 75.6431%\n",
      "SVC (MinMaxScaler): 76.0219%\n",
      "SVC (MaxAbsScaler): 75.9222%\n",
      "SVC (StandardScaler): 75.9721%\n",
      "SVC (RobustScaler): 76.1515%\n",
      "SVC (Normalizer): 75.2642%\n",
      "SVC (QuantileTransformer): 76.0419%\n",
      "SVC (PowerTransformer): 76.0219%\n",
      "MLPClassifier (MinMaxScaler): 76.1216%\n",
      "MLPClassifier (MaxAbsScaler): 75.9023%\n",
      "MLPClassifier (StandardScaler): 75.5733%\n",
      "MLPClassifier (RobustScaler): 75.5434%\n",
      "MLPClassifier (Normalizer): 75.2941%\n",
      "MLPClassifier (QuantileTransformer): 75.9322%\n",
      "MLPClassifier (PowerTransformer): 75.3938%\n",
      "GradientBoostingClassifier (MinMaxScaler): 75.8225%\n",
      "GradientBoostingClassifier (MaxAbsScaler): 75.8126%\n",
      "GradientBoostingClassifier (StandardScaler): 75.8126%\n",
      "GradientBoostingClassifier (RobustScaler): 75.8126%\n",
      "GradientBoostingClassifier (Normalizer): 75.4536%\n",
      "GradientBoostingClassifier (QuantileTransformer): 75.8624%\n",
      "GradientBoostingClassifier (PowerTransformer): 75.8225%\n",
      "AdaBoostClassifier (MinMaxScaler): 75.3639%\n",
      "AdaBoostClassifier (MaxAbsScaler): 75.3539%\n",
      "AdaBoostClassifier (StandardScaler): 75.3639%\n",
      "AdaBoostClassifier (RobustScaler): 75.3739%\n",
      "AdaBoostClassifier (Normalizer): 75.3041%\n",
      "AdaBoostClassifier (QuantileTransformer): 75.3639%\n",
      "AdaBoostClassifier (PowerTransformer): 75.3639%\n",
      "BaggingClassifier (MinMaxScaler): 72.4028%\n",
      "BaggingClassifier (MaxAbsScaler): 72.3529%\n",
      "BaggingClassifier (StandardScaler): 72.3629%\n",
      "BaggingClassifier (RobustScaler): 72.3928%\n",
      "BaggingClassifier (Normalizer): 72.6820%\n",
      "BaggingClassifier (QuantileTransformer): 72.3928%\n",
      "BaggingClassifier (PowerTransformer): 72.3928%\n",
      "LinearDiscriminantAnalysis (MinMaxScaler): 75.9322%\n",
      "LinearDiscriminantAnalysis (MaxAbsScaler): 75.9322%\n",
      "LinearDiscriminantAnalysis (StandardScaler): 75.9322%\n",
      "LinearDiscriminantAnalysis (RobustScaler): 75.9322%\n",
      "LinearDiscriminantAnalysis (Normalizer): 75.1844%\n",
      "LinearDiscriminantAnalysis (QuantileTransformer): 76.0917%\n",
      "LinearDiscriminantAnalysis (PowerTransformer): 75.8624%\n",
      "XGBClassifier (MinMaxScaler): 74.0479%\n",
      "XGBClassifier (MaxAbsScaler): 74.0479%\n",
      "XGBClassifier (StandardScaler): 74.0578%\n",
      "XGBClassifier (RobustScaler): 74.0379%\n",
      "XGBClassifier (Normalizer): 73.8185%\n",
      "XGBClassifier (QuantileTransformer): 74.0080%\n",
      "XGBClassifier (PowerTransformer): 74.0479%\n",
      "Best model and scaler: LogisticRegression (PowerTransformer), Accuracy: 76.2612%\n"
     ]
    }
   ],
   "source": [
    "acc_scores = {}\n",
    "\n",
    "# Loop through models and scalers\n",
    "for model in models:\n",
    "    for scaler in scalers:\n",
    "        acc = []\n",
    "        \n",
    "        # Scale the data\n",
    "        X_scaled = scaler.fit_transform(X)\n",
    "        \n",
    "        # Loop through folds and calculate average accuracy\n",
    "        for train_index, test_index in kf.split(X_scaled):\n",
    "            X_train_scaled, X_test_scaled = X_scaled[train_index], X_scaled[test_index]\n",
    "            y_train, y_test = y[train_index], y[test_index]\n",
    "            \n",
    "            # Train the model\n",
    "            model.fit(X_train_scaled, y_train)\n",
    "            \n",
    "            # Make predictions on the testing data\n",
    "            y_pred = model.predict(X_test_scaled)\n",
    "            \n",
    "            # Calculate the accuracy of the predictions\n",
    "            acc.append(accuracy_score(y_test, y_pred))\n",
    "        \n",
    "        # Append the accuracy score to the list for this model and scaler\n",
    "        model_name = f\"{type(model).__name__} ({type(scaler).__name__})\"\n",
    "        acc_scores[model_name] = np.mean(acc)\n",
    "\n",
    "# Print the results for each model and scaler\n",
    "for model_name, acc in acc_scores.items():\n",
    "    print(f\"{model_name}: {acc*100:.4f}%\")\n",
    "\n",
    "# Find the best model and scaler\n",
    "best_model_name = max(acc_scores, key=acc_scores.get)\n",
    "print(f\"Best model and scaler: {best_model_name}, Accuracy: {acc_scores[best_model_name]*100:.4f}%\")"
   ]
  },
  {
   "cell_type": "code",
   "execution_count": 207,
   "metadata": {},
   "outputs": [
    {
     "name": "stdout",
     "output_type": "stream",
     "text": [
      "Độ chính xác của mô hình trên tập kiểm tra: 0.7687\n",
      "    Threshold  Error rate\n",
      "0         100      0.0000\n",
      "1          95      0.4115\n",
      "2          90      3.1250\n",
      "3          85      5.7183\n",
      "4          80      8.9404\n",
      "5          75     11.6487\n",
      "6          70     14.1430\n",
      "7          65     15.5392\n",
      "8          60     18.1050\n",
      "9          55     20.5658\n",
      "10         50     23.1306\n"
     ]
    }
   ],
   "source": [
    "from sklearn.linear_model import LogisticRegression\n",
    "\n",
    "# X là dữ liệu đầu vào, y là kết quả đầu ra\n",
    "# train_test_split để chia dữ liệu thành tập huấn luyện và tập kiểm tra\n",
    "X_train, X_test, y_train, y_test = train_test_split(X, y, test_size=0.2, random_state=42)\n",
    "\n",
    "# Huấn luyện mô hình hồi quy logistic\n",
    "lr_model = LogisticRegression(random_state=42)\n",
    "lr_model.fit(X_train, y_train)\n",
    "\n",
    "# Đánh giá độ chính xác của mô hình trên tập kiểm tra\n",
    "accuracy = lr_model.score(X_test, y_test)\n",
    "print(f\"Độ chính xác của mô hình trên tập kiểm tra: {accuracy*100:.4f}\")\n",
    "\n",
    "# Dự đoán tỉ lệ thắng của đội blue trong trận đấu mới\n",
    "win_prob = lr_model.predict_proba(X_test)[:, 1]\n",
    "\n",
    "# Chuyển đổi xác suất thắng thành tỉ lệ phần trăm\n",
    "win_percentages = win_prob * 100\n",
    "\n",
    "# Chuyển X_test thành DataFrame của Pandas\n",
    "X_test_df = pd.DataFrame(X_test, columns=X.columns)\n",
    "\n",
    "# Dự đoán kết quả trên tập kiểm tra\n",
    "y_pred = lr_model.predict(X_test)\n",
    "\n",
    "# Tìm các trận dự đoán sai\n",
    "wrong_predictions = X_test_df[y_pred != y_test]\n",
    "\n",
    "# Dự đoán tỉ lệ thắng của đội blue trong các trận dự đoán sai\n",
    "wrong_win_prob = lr_model.predict_proba(wrong_predictions)[:, 1]\n",
    "\n",
    "# Chuyển đổi xác suất thắng thành tỉ lệ phần trăm\n",
    "wrong_win_percentages = wrong_win_prob * 100\n",
    "\n",
    "data = []\n",
    "for i in range(len(X_test)):\n",
    "    data.append({\n",
    "        \"gold_difference\": X_test_df.iloc[i][\"gold_difference\"],\n",
    "        \"herald_difference\": X_test_df.iloc[i][\"herald_difference\"],\n",
    "        \"dragon_difference\": X_test_df.iloc[i][\"dragon_difference\"],\n",
    "        \"turret_difference\": X_test_df.iloc[i][\"turret_difference\"],\n",
    "        \"kda_difference_top\": X_test_df.iloc[i][\"kda_difference_top\"],\n",
    "        \"kda_difference_jungle\": X_test_df.iloc[i][\"kda_difference_jungle\"],\n",
    "        \"kda_difference_mid\": X_test_df.iloc[i][\"kda_difference_mid\"],\n",
    "        \"kda_difference_ad\": X_test_df.iloc[i][\"kda_difference_ad\"],\n",
    "        \"kda_difference_sp\": X_test_df.iloc[i][\"kda_difference_sp\"],\n",
    "        \"blue_win_percentage\": win_percentages[i],\n",
    "        \"red_win_percentage\": 100 - win_percentages[i]\n",
    "    })\n",
    "\n",
    "# Tạo ra DataFrame từ list dict trên\n",
    "df = pd.DataFrame(data)\n",
    "\n",
    "df.to_excel('data.xlsx', index=False)\n",
    "\n",
    "thresholds = [(0, 100), (5, 95), (10, 90), (15, 85), (20, 80), (25, 75), (30, 70), (35, 65), (40, 60), (45, 55), (50, 50)]\n",
    "\n",
    "result_previous = 0\n",
    "\n",
    "total_predictions = len(X_test)\n",
    "results = []\n",
    "for t in thresholds:\n",
    "    threshold_results = len(wrong_predictions[(wrong_win_percentages < t[0]) | (wrong_win_percentages > t[1])]) \n",
    "    same_range_count = len(win_percentages[(win_percentages < t[0]) | (win_percentages > t[1])])\n",
    "    if same_range_count > 0:\n",
    "        error_rate = threshold_results / same_range_count\n",
    "    else:\n",
    "        error_rate = 0\n",
    "    results.append((t[1], error_rate * 100))\n",
    "\n",
    "df = pd.DataFrame(results, columns=[\"Threshold\", \"Error rate\"])\n",
    "df[\"Error rate\"] = df[\"Error rate\"].round(4)\n",
    "\n",
    "print(df)"
   ]
  },
  {
   "cell_type": "code",
   "execution_count": 175,
   "metadata": {},
   "outputs": [
    {
     "data": {
      "image/png": "[encoded data removed]",
      "text/plain": [
       "<Figure size 432x288 with 1 Axes>"
      ]
     },
     "metadata": {
      "needs_background": "light"
     },
     "output_type": "display_data"
    }
   ],
   "source": [
    "import matplotlib.pyplot as plt\n",
    "\n",
    "# Vẽ biểu đồ đường\n",
    "plt.plot(X_test_df['gold_difference'], win_percentages, 'bo')\n",
    "\n",
    "# Đặt tên cho các trục và tiêu đề\n",
    "plt.xlabel('Gold Difference')\n",
    "plt.ylabel('Win Percentage')\n",
    "plt.title('Gold Difference vs Win Percentage')\n",
    "\n",
    "# Hiển thị biểu đồ\n",
    "plt.show()\n"
   ]
  },
  {
   "cell_type": "code",
   "execution_count": 181,
   "metadata": {},
   "outputs": [],
   "source": [
    "from sklearn.model_selection import train_test_split, cross_val_score, GridSearchCV"
   ]
  },
  {
   "cell_type": "code",
   "execution_count": 150,
   "metadata": {},
   "outputs": [
    {
     "name": "stdout",
     "output_type": "stream",
     "text": [
      "Bộ tham số tốt nhất: {'C': 1438.44988828766}\n",
      "Độ chính xác trên tập kiểm tra: 0.50\n"
     ]
    },
    {
     "data": {
      "image/png": "[encoded data removed]",
      "text/plain": [
       "<Figure size 432x288 with 1 Axes>"
      ]
     },
     "metadata": {
      "needs_background": "light"
     },
     "output_type": "display_data"
    }
   ],
   "source": [
    "# Tìm bộ tham số tốt nhất cho mô hình hồi quy logistic bằng GridSearchCV\n",
    "params = {\"C\": np.logspace(-4, 4, 20)}\n",
    "lr_model = LogisticRegression(random_state=42, solver=\"liblinear\")\n",
    "grid_search = GridSearchCV(lr_model, params, cv=5, scoring=\"roc_auc\")\n",
    "grid_search.fit(X_train_scaled, y_train)\n",
    "\n",
    "# In ra bộ tham số tốt nhất và độ chính xác trên tập kiểm tra\n",
    "best_lr_model = grid_search.best_estimator_\n",
    "print(f\"Bộ tham số tốt nhất: {grid_search.best_params_}\")\n",
    "print(f\"Độ chính xác trên tập kiểm tra: {best_lr_model.score(X_test_scaled, y_test):.2f}\")\n",
    "\n",
    "# Dự đoán xác suất thắng của đội blue trong trận đấu mới\n",
    "win_prob = best_lr_model.predict_proba(X_test_scaled)[:, 1]\n",
    "\n",
    "# Chuyển đổi xác suất thắng thành tỉ lệ phần trăm\n",
    "win_percentages = win_prob * 100\n",
    "\n",
    "# Vẽ biểu đồ đường gold_difference và tỉ lệ thắng\n",
    "plt.plot(X_test[\"gold_difference\"], win_percentages, \"b.\")\n",
    "plt.xlabel(\"Gold difference\")\n",
    "plt.ylabel(\"Win percentage\")\n",
    "plt.show()\n",
    "\n"
   ]
  }
 ],
 "metadata": {
  "kernelspec": {
   "display_name": "Python 3",
   "language": "python",
   "name": "python3"
  },
  "language_info": {
   "codemirror_mode": {
    "name": "ipython",
    "version": 3
   },
   "file_extension": ".py",
   "mimetype": "text/x-python",
   "name": "python",
   "nbconvert_exporter": "python",
   "pygments_lexer": "ipython3",
   "version": "3.10.0"
  },
  "orig_nbformat": 4
 },
 "nbformat": 4,
 "nbformat_minor": 2
}
