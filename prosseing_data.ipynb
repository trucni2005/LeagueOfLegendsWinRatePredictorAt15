{
 "cells": [
  {
   "cell_type": "code",
   "execution_count": 1,
   "metadata": {},
   "outputs": [],
   "source": [
    "# import pandas as pd\n",
    "# import matplotlib.pyplot as plt\n",
    "\n",
    "# # Đọc dữ liệu từ tệp CSV\n",
    "# data = pd.read_csv('data_done.csv')\n",
    "\n",
    "# # Tạo bộ dữ liệu riêng biệt cho đường top\n",
    "# top_data = data[['top_blue', 'top_red', 'Team_Win']]\n",
    "\n",
    "# # Tạo danh sách tướng xuất hiện trên đường top và số trận đấu của mỗi tướng\n",
    "# champions = set(top_data['top_blue']).union(set(top_data['top_red']))\n",
    "# match_counts = {}\n",
    "# for champ in champions:\n",
    "#     champ_data = top_data[(top_data['top_blue'] == champ) | (top_data['top_red'] == champ)]\n",
    "#     match_counts[champ] = champ_data.shape[0]\n",
    "\n",
    "# champions = [champ for champ in champions if match_counts[champ] >= 100]\n",
    "\n",
    "# # Tính tỉ lệ thắng cho từng tướng trên đường top\n",
    "# win_rates = {}\n",
    "# for champ in champions:\n",
    "#     champ_data = top_data[(top_data['top_blue'] == champ) | (top_data['top_red'] == champ)]\n",
    "#     champ_wins = champ_data[champ_data['Team_Win'] == 'blue'].shape[0] if champ in champ_data['top_blue'].unique() else champ_data[champ_data['Team_Win'] == 'red'].shape[0]\n",
    "#     champ_losses = champ_data.shape[0] - champ_wins\n",
    "#     win_rate = champ_wins / (champ_wins + champ_losses)\n",
    "#     win_rates[champ] = win_rate\n",
    "\n",
    "# # Sắp xếp danh sách tướng theo tỉ lệ thắng giảm dần\n",
    "# sorted_champions = sorted(win_rates, key=win_rates.get, reverse=True)\n",
    "\n",
    "# # Tạo bảng xếp hạng\n",
    "# rankings = pd.DataFrame({\n",
    "#     'Champion': sorted_champions,\n",
    "#     'Win Rate': [win_rates[champ] for champ in sorted_champions],\n",
    "#     'Match Count': [match_counts[champ] for champ in sorted_champions]\n",
    "# })\n",
    "\n",
    "# plt.figure(figsize=(20, 60))\n",
    "# plt.barh(rankings['Champion'], rankings['Win Rate'], color='#4285F4')\n",
    "# for i, champ in enumerate(rankings['Champion']):\n",
    "#     plt.text(rankings.iloc[i]['Win Rate'] + 0.01, i, f\"{rankings.iloc[i]['Match Count']} matches, winrate = {rankings.iloc[i]['Win Rate']:.2%}\", va='center')\n",
    "# plt.xlabel('Win Rate')\n",
    "# plt.title('Top Champions on Top Lane')\n",
    "# plt.gca().invert_yaxis()\n",
    "# plt.show()\n",
    "\n",
    "\n"
   ]
  },
  {
   "cell_type": "code",
   "execution_count": 2,
   "metadata": {},
   "outputs": [],
   "source": [
    "import pandas as pd\n",
    "import matplotlib.pyplot as plt\n",
    "\n",
    "# Đọc dữ liệu từ tệp CSV\n",
    "data = pd.read_csv('data_done.csv')"
   ]
  },
  {
   "cell_type": "code",
   "execution_count": 3,
   "metadata": {},
   "outputs": [
    {
     "name": "stdout",
     "output_type": "stream",
     "text": [
      "Win rate with dragon advantage: 69.93%\n"
     ]
    }
   ],
   "source": [
    "# Lọc ra các trận đấu có sự khác biệt về rồng sau phút 20\n",
    "dragon_diff = data['dragon_difference_at_20_minutes']\n",
    "relevant_matches = data[dragon_diff != 0]\n",
    "\n",
    "# Tính tỉ lệ thắng khi hơn rồng\n",
    "wins_with_dragon_advantage = relevant_matches[(relevant_matches['dragon_difference_at_20_minutes'] > 0) & (relevant_matches['Team_Win'] == 'blue') | (relevant_matches['dragon_difference_at_20_minutes'] < 0) & (relevant_matches['Team_Win'] == 'red')].shape[0]\n",
    "total_matches_with_dragon_advantage = relevant_matches[(relevant_matches['dragon_difference_at_20_minutes'] > 0) | (relevant_matches['dragon_difference_at_20_minutes'] < 0)].shape[0]\n",
    "win_rate_with_dragon_advantage = wins_with_dragon_advantage / total_matches_with_dragon_advantage\n",
    "\n",
    "print(f\"Win rate with dragon advantage: {win_rate_with_dragon_advantage:.2%}\")"
   ]
  },
  {
   "cell_type": "code",
   "execution_count": 6,
   "metadata": {},
   "outputs": [
    {
     "name": "stdout",
     "output_type": "stream",
     "text": [
      "Tỉ lệ thắng với chênh lệch vàng phút 20 lớn hơn 0 là: 77.50%\n",
      "Tỉ lệ thắng của team xanh khi hơn chênh lệch vàng phút 20 là: 77.47%\n",
      "Tỉ lệ thắng của team đỏ khi kém chênh lệch vàng phút 20 là: 77.53%\n"
     ]
    }
   ],
   "source": [
    "# Định nghĩa ngưỡng chênh lệch vàng phút 20\n",
    "gold_diff_20 = 0\n",
    "\n",
    "# Lọc ra các trận đấu có chênh lệch vàng phút 20 lớn hơn ngưỡng\n",
    "filtered_data = data[abs(data['gold_difference_at_20_minutes']) >= gold_diff_20]\n",
    "\n",
    "# Tính tỉ lệ thắng của team xanh và đỏ trong các trận đấu lọc được\n",
    "blue_win_count = filtered_data[(filtered_data['Team_Win'] == 'blue') & (filtered_data['gold_difference_at_20_minutes'] > 0)].shape[0]\n",
    "blue_loss_count = filtered_data[(filtered_data['Team_Win'] == 'blue') & (filtered_data['gold_difference_at_20_minutes'] < 0)].shape[0]\n",
    "red_win_count = filtered_data[(filtered_data['Team_Win'] == 'red') & (filtered_data['gold_difference_at_20_minutes'] < 0)].shape[0]\n",
    "red_loss_count = filtered_data[(filtered_data['Team_Win'] == 'red') & (filtered_data['gold_difference_at_20_minutes'] > 0)].shape[0]\n",
    "\n",
    "# Tính tỉ lệ thắng của team xanh và đỏ khi hơn và kém chênh lệch vàng\n",
    "blue_win_rate_when_ahead = blue_win_count / (blue_win_count + blue_loss_count)\n",
    "red_win_rate_when_behind = red_win_count / (red_win_count + red_loss_count)\n",
    "win_rate_when_behind = (blue_win_count + red_win_count) / (blue_win_count + blue_loss_count + red_win_count + red_loss_count)\n",
    "\n",
    "# In kết quả\n",
    "print(f\"Tỉ lệ thắng với chênh lệch vàng phút 20 lớn hơn {gold_diff_20} là: {win_rate_when_behind:.2%}\")\n",
    "print(f\"Tỉ lệ thắng của team xanh khi hơn chênh lệch vàng phút 20 là: {blue_win_rate_when_ahead:.2%}\")\n",
    "print(f\"Tỉ lệ thắng của team đỏ khi kém chênh lệch vàng phút 20 là: {red_win_rate_when_behind:.2%}\")\n"
   ]
  },
  {
   "cell_type": "code",
   "execution_count": 18,
   "metadata": {},
   "outputs": [],
   "source": [
    "import pandas as pd\n",
    "\n",
    "df = pd.read_csv(\"data_done.csv\")\n",
    "df[\"herald_difference_at_20_minutes\"] = df[\"Blue_Heralds_killed\"] - df[\"Red_Heralds_killed\"]\n",
    "df = df.drop(['KDA_blue', 'KDA_red', 'Blue_Heralds_killed', 'Red_Heralds_killed','top_blue','top_red', 'mid_blue', 'mid_red','jung_blue','jung_red','ad_blue','ad_red','support_blue','support_red'], axis=1)\n",
    "df.to_csv(\"processed_data.csv\", index=False)\n"
   ]
  },
  {
   "cell_type": "code",
   "execution_count": 20,
   "metadata": {},
   "outputs": [],
   "source": [
    "data = pd.read_csv(\"processed_data.csv\")"
   ]
  },
  {
   "cell_type": "code",
   "execution_count": 37,
   "metadata": {},
   "outputs": [],
   "source": [
    "import numpy as np\n",
    "from sklearn.linear_model import LogisticRegression\n",
    "from sklearn.metrics import accuracy_score\n",
    "from sklearn.model_selection import cross_validate, KFold\n",
    "from sklearn.preprocessing import MinMaxScaler, MaxAbsScaler, StandardScaler, RobustScaler, Normalizer, QuantileTransformer, PowerTransformer\n",
    "from sklearn.decomposition import PCA\n"
   ]
  },
  {
   "cell_type": "code",
   "execution_count": 39,
   "metadata": {},
   "outputs": [
    {
     "name": "stdout",
     "output_type": "stream",
     "text": [
      "MinMaxScaler: 0.7720\n",
      "MaxAbsScaler: 0.7840\n",
      "StandardScaler: 0.7810\n",
      "RobustScaler: 0.7840\n",
      "Normalizer: 0.7750\n",
      "QuantileTransformer: 0.7740\n",
      "PowerTransformer: 0.7800\n",
      "Best score: 0.7840\n",
      "Best scaler: MaxAbsScaler\n"
     ]
    }
   ],
   "source": [
    "# Lấy các feature cần dùng\n",
    "X = data.drop(['Team_Win', 'link'], axis=1)\n",
    "\n",
    "# Lấy label cần dự đoán\n",
    "y = data['Team_Win']\n",
    "\n",
    "# Khởi tạo cross-validation\n",
    "kf = KFold(n_splits=5, shuffle=True, random_state=42)\n",
    "scores = [] \n",
    "\n",
    "# các kĩ thuật chuẩn hóa\n",
    "scalers = [MinMaxScaler(), MaxAbsScaler(), StandardScaler(), RobustScaler(), Normalizer(), QuantileTransformer(n_quantiles=623), PowerTransformer(method = 'yeo-johnson')]\n",
    "\n",
    "# Duyệt qua các kĩ thuật chuẩn hóa\n",
    "for scaler in scalers:\n",
    "    # Chuẩn hóa dữ liệu\n",
    "    X_scaled = scaler.fit_transform(X)\n",
    "    \n",
    "    # Khởi tạo model Logistic Regression\n",
    "    lr = LogisticRegression(random_state=42)\n",
    "    \n",
    "    # Duyệt qua các fold và tính accuracy trung bình\n",
    "    acc = []\n",
    "    for train_index, test_index in kf.split(X_scaled):\n",
    "        X_train, X_test = X_scaled[train_index], X_scaled[test_index]\n",
    "        y_train, y_test = y[train_index], y[test_index]\n",
    "\n",
    "        lr.fit(X_train, y_train)\n",
    "        y_pred = lr.predict(X_test)\n",
    "\n",
    "        acc.append(accuracy_score(y_test, y_pred))\n",
    "\n",
    "    scores.append(np.mean(acc))\n",
    "\n",
    "# In ra kết quả accuracy trung bình của mỗi kĩ thuật chuẩn hóa\n",
    "for i in range(len(scalers)):\n",
    "    print(f\"{type(scalers[i]).__name__}: {scores[i]:.4f}\")\n",
    "\n",
    "best_score = max(scores)\n",
    "best_scaler = scalers[scores.index(best_score)]\n",
    "print(f\"Best score: {best_score:.4f}\")\n",
    "print(f\"Best scaler: {type(best_scaler).__name__}\")\n",
    "\n"
   ]
  },
  {
   "cell_type": "code",
   "execution_count": 38,
   "metadata": {},
   "outputs": [
    {
     "name": "stdout",
     "output_type": "stream",
     "text": [
      "PCA components:\n",
      " [[-4.43527941e-01 -3.67008010e-01 -2.43444019e-01 -1.71893557e-01\n",
      "   1.57827695e-01 -2.69484548e-01  2.80838470e-01 -2.24650946e-01\n",
      "   2.28866112e-01 -2.38819239e-01  2.46031724e-01 -2.64914279e-01\n",
      "   2.49970311e-01 -2.24266000e-01]\n",
      " [-1.18626452e-01 -1.79485010e-01  1.24414960e-01 -3.50290023e-01\n",
      "   4.58582067e-01 -6.53373708e-02  5.44522092e-02 -7.73818009e-03\n",
      "  -1.03935669e-02  3.40884513e-01 -3.51203588e-01  3.04827839e-01\n",
      "  -3.53816035e-01 -3.74405223e-01]\n",
      " [-2.96973717e-02 -4.83042478e-02  1.03893438e-01 -3.58154622e-01\n",
      "   2.75661395e-01  1.87053256e-01 -1.53090865e-01  5.18459440e-01\n",
      "  -5.18892028e-01 -2.48845248e-01  2.70668298e-01 -1.51052090e-01\n",
      "   1.53735519e-01 -6.01289597e-02]\n",
      " [-1.68337818e-01 -3.99364641e-01 -8.79617407e-02  4.72200019e-01\n",
      "  -3.16778234e-01  8.82805460e-02 -2.99314790e-01  1.69122214e-01\n",
      "  -1.62148473e-01  1.15017164e-01  1.16956350e-01  1.57188263e-01\n",
      "  -2.45816704e-02 -5.25941340e-01]\n",
      " [-2.52669243e-02 -2.21042834e-02  7.89265837e-01 -8.41247813e-02\n",
      "  -2.86004832e-02  8.42794850e-02 -2.48819725e-01 -9.23579502e-02\n",
      "   3.98359371e-01 -4.02354890e-02  1.17018645e-01  1.99615656e-02\n",
      "   3.04323468e-01 -1.53230201e-01]\n",
      " [-7.52031904e-02 -1.82548937e-01 -1.83573091e-01 -1.31667819e-01\n",
      "   6.40152022e-02  7.75529495e-01 -2.18797277e-01 -4.46462230e-01\n",
      "   1.63124432e-02 -1.85681813e-01 -1.08912174e-01 -1.86604659e-02\n",
      "  -6.77433622e-02  7.54790521e-02]\n",
      " [ 6.45054754e-02  9.03993939e-02  1.69699529e-01  2.80244682e-01\n",
      "   2.90539305e-01  4.82405360e-04  1.24101079e-01 -4.80668055e-01\n",
      "  -5.01576187e-01  3.97763447e-01  1.45553149e-01 -2.09005845e-01\n",
      "   2.65176444e-01 -6.70348021e-02]\n",
      " [ 2.22747545e-02 -3.18482450e-02  1.76457084e-01 -1.21808636e-01\n",
      "  -4.25283148e-01  2.84195242e-01  6.62310055e-01  1.07090703e-01\n",
      "  -1.56871538e-01 -2.61354549e-02 -3.50025306e-01 -7.27992198e-02\n",
      "   1.90865599e-01 -2.26319464e-01]\n",
      " [ 2.15246045e-02  1.51679082e-02 -2.44557266e-01 -4.21315331e-01\n",
      "  -2.61135669e-01 -8.72228823e-02 -1.30315588e-01 -1.35075730e-01\n",
      "  -1.06712269e-01  2.52722517e-01  1.20875319e-01  5.52274122e-01\n",
      "   5.00568453e-01  7.43100537e-02]\n",
      " [-4.30765053e-02 -8.83724088e-02 -1.71051305e-01 -1.47939270e-01\n",
      "  -7.26369850e-02  3.13570947e-02 -2.99092495e-01  2.21740586e-01\n",
      "   1.76306214e-01  5.10755061e-01 -3.26348885e-01 -5.79960766e-01\n",
      "   2.34330573e-01  6.76907173e-02]]\n"
     ]
    }
   ],
   "source": [
    "# Chuẩn bị dữ liệu\n",
    "X = data.drop(['Team_Win', 'link'], axis=1)\n",
    "X_scaled = StandardScaler().fit_transform(X)\n",
    "\n",
    "# Tính toán PCA\n",
    "pca = PCA(n_components=10)\n",
    "X_pca = pca.fit_transform(X_scaled)\n",
    "\n",
    "# In ra ma trận trọng số của PCA\n",
    "print('PCA components:\\n', pca.components_)\n",
    "\n"
   ]
  }
 ],
 "metadata": {
  "kernelspec": {
   "display_name": "Python 3",
   "language": "python",
   "name": "python3"
  },
  "language_info": {
   "codemirror_mode": {
    "name": "ipython",
    "version": 3
   },
   "file_extension": ".py",
   "mimetype": "text/x-python",
   "name": "python",
   "nbconvert_exporter": "python",
   "pygments_lexer": "ipython3",
   "version": "3.10.0"
  },
  "orig_nbformat": 4
 },
 "nbformat": 4,
 "nbformat_minor": 2
}
