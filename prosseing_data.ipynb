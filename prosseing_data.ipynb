{
 "cells": [
  {
   "cell_type": "code",
   "execution_count": 7,
   "metadata": {},
   "outputs": [],
   "source": [
    "import pandas as pd"
   ]
  },
  {
   "attachments": {},
   "cell_type": "markdown",
   "metadata": {},
   "source": [
    "# Làm sạch dữ liệu"
   ]
  },
  {
   "cell_type": "code",
   "execution_count": 8,
   "metadata": {},
   "outputs": [],
   "source": [
    "# Đọc file CSV vào dataframe\n",
    "df = pd.read_csv('data0205.csv')\n",
    "\n",
    "# Xóa các dòng trùng nhau dựa trên cột \"link\"\n",
    "df.drop_duplicates(subset=['link'], inplace=True)\n",
    "\n",
    "# Lưu lại vào file CSV\n",
    "df.to_csv('data_done.csv', index=False)"
   ]
  },
  {
   "cell_type": "code",
   "execution_count": 9,
   "metadata": {},
   "outputs": [],
   "source": [
    "df = pd.read_csv(\"data_done.csv\")"
   ]
  },
  {
   "attachments": {},
   "cell_type": "markdown",
   "metadata": {},
   "source": [
    "# Tạo đặc trưng mới"
   ]
  },
  {
   "cell_type": "code",
   "execution_count": 10,
   "metadata": {},
   "outputs": [],
   "source": [
    "df[\"herald_difference\"] = df[\"blue_heralds\"] - df[\"red_heralds\"]\n",
    "df[\"dragon_difference\"] = df[\"dragon_blue\"] - df[\"dragon_red\"]\n",
    "df[\"turret_difference\"] = df[\"turret_blue\"] - df[\"turret_red\"]\n",
    "\n",
    "df[\"kda_difference_top\"] = df[\"kda_top_blue\"] - df[\"kda_top_red\"]\n",
    "df[\"kda_difference_jungle\"] = df[\"kda_jungle_blue\"] - df[\"kda_jungle_red\"]\n",
    "df[\"kda_difference_mid\"] = df[\"kda_mid_blue\"] - df[\"kda_mid_red\"]\n",
    "df[\"kda_difference_ad\"] = df[\"kda_ad_blue\"] - df[\"kda_ad_red\"]\n",
    "df[\"kda_difference_sp\"] = df[\"kda_sp_blue\"] - df[\"kda_sp_red\"]"
   ]
  },
  {
   "attachments": {},
   "cell_type": "markdown",
   "metadata": {},
   "source": [
    "# Xóa các cột không cần thiết"
   ]
  },
  {
   "cell_type": "code",
   "execution_count": 11,
   "metadata": {},
   "outputs": [],
   "source": [
    "df = df.drop(['kda_top_blue', 'kda_top_red', 'kda_jungle_blue', 'kda_jungle_red', 'kda_mid_blue', 'kda_mid_red', 'kda_ad_blue', 'kda_ad_red', 'kda_sp_blue', 'kda_sp_red',\n",
    "              'link','dragon_blue', 'dragon_red', 'turret_blue', 'turret_red', 'blue_heralds', 'red_heralds','top_blue','top_red', 'mid_blue', 'mid_red','jung_blue','jung_red','ad_blue','ad_red','support_blue','support_red'], axis=1)\n",
    "df['team_win'] = df['team_win'].replace({'blue': 1, 'red': 0})\n",
    "df.to_csv(\"processed_data.csv\", index=False)\n"
   ]
  },
  {
   "cell_type": "code",
   "execution_count": 12,
   "metadata": {},
   "outputs": [],
   "source": [
    "data = pd.read_csv(\"processed_data.csv\")"
   ]
  },
  {
   "cell_type": "code",
   "execution_count": 13,
   "metadata": {},
   "outputs": [],
   "source": [
    "import numpy as np\n",
    "from sklearn.metrics import accuracy_score\n",
    "from sklearn.model_selection import train_test_split, KFold\n",
    "from sklearn.preprocessing import MinMaxScaler, MaxAbsScaler, StandardScaler, RobustScaler, Normalizer, QuantileTransformer, PowerTransformer\n",
    "from sklearn.ensemble import RandomForestClassifier\n"
   ]
  },
  {
   "cell_type": "code",
   "execution_count": 15,
   "metadata": {},
   "outputs": [
    {
     "ename": "NameError",
     "evalue": "name 'sns' is not defined",
     "output_type": "error",
     "traceback": [
      "\u001b[1;31m---------------------------------------------------------------------------\u001b[0m",
      "\u001b[1;31mNameError\u001b[0m                                 Traceback (most recent call last)",
      "\u001b[1;32m~\\AppData\\Local\\Temp/ipykernel_17420/3522684706.py\u001b[0m in \u001b[0;36m<module>\u001b[1;34m\u001b[0m\n\u001b[0;32m      3\u001b[0m \u001b[1;33m\u001b[0m\u001b[0m\n\u001b[0;32m      4\u001b[0m \u001b[1;31m# Vẽ heatmap\u001b[0m\u001b[1;33m\u001b[0m\u001b[1;33m\u001b[0m\u001b[0m\n\u001b[1;32m----> 5\u001b[1;33m \u001b[0msns\u001b[0m\u001b[1;33m.\u001b[0m\u001b[0mheatmap\u001b[0m\u001b[1;33m(\u001b[0m\u001b[0mcorr\u001b[0m\u001b[1;33m,\u001b[0m \u001b[0mcmap\u001b[0m\u001b[1;33m=\u001b[0m\u001b[1;34m'coolwarm'\u001b[0m\u001b[1;33m,\u001b[0m \u001b[0mannot\u001b[0m\u001b[1;33m=\u001b[0m\u001b[1;32mTrue\u001b[0m\u001b[1;33m)\u001b[0m\u001b[1;33m\u001b[0m\u001b[1;33m\u001b[0m\u001b[0m\n\u001b[0m\u001b[0;32m      6\u001b[0m \u001b[0mplt\u001b[0m\u001b[1;33m.\u001b[0m\u001b[0mshow\u001b[0m\u001b[1;33m(\u001b[0m\u001b[1;33m)\u001b[0m\u001b[1;33m\u001b[0m\u001b[1;33m\u001b[0m\u001b[0m\n\u001b[0;32m      7\u001b[0m \u001b[1;33m\u001b[0m\u001b[0m\n",
      "\u001b[1;31mNameError\u001b[0m: name 'sns' is not defined"
     ]
    }
   ],
   "source": [
    "# # Tính ma trận tương quan\n",
    "# corr = data.corr()\n",
    "\n",
    "# # Vẽ heatmap\n",
    "# sns.heatmap(corr, cmap='coolwarm', annot=True)\n",
    "# plt.show()\n",
    "\n"
   ]
  },
  {
   "cell_type": "code",
   "execution_count": null,
   "metadata": {},
   "outputs": [
    {
     "ename": "NameError",
     "evalue": "name 'data' is not defined",
     "output_type": "error",
     "traceback": [
      "\u001b[1;31m---------------------------------------------------------------------------\u001b[0m",
      "\u001b[1;31mNameError\u001b[0m                                 Traceback (most recent call last)",
      "\u001b[1;32m~\\AppData\\Local\\Temp/ipykernel_17420/4033046721.py\u001b[0m in \u001b[0;36m<module>\u001b[1;34m\u001b[0m\n\u001b[0;32m      1\u001b[0m \u001b[1;31m# Chia dữ liệu thành features và label\u001b[0m\u001b[1;33m\u001b[0m\u001b[1;33m\u001b[0m\u001b[0m\n\u001b[1;32m----> 2\u001b[1;33m \u001b[0mX\u001b[0m \u001b[1;33m=\u001b[0m \u001b[0mdata\u001b[0m\u001b[1;33m.\u001b[0m\u001b[0mdrop\u001b[0m\u001b[1;33m(\u001b[0m\u001b[1;33m[\u001b[0m\u001b[1;34m'team_win'\u001b[0m\u001b[1;33m]\u001b[0m\u001b[1;33m,\u001b[0m \u001b[0maxis\u001b[0m\u001b[1;33m=\u001b[0m\u001b[1;36m1\u001b[0m\u001b[1;33m)\u001b[0m\u001b[1;33m\u001b[0m\u001b[1;33m\u001b[0m\u001b[0m\n\u001b[0m\u001b[0;32m      3\u001b[0m \u001b[0my\u001b[0m \u001b[1;33m=\u001b[0m \u001b[0mdata\u001b[0m\u001b[1;33m[\u001b[0m\u001b[1;34m'team_win'\u001b[0m\u001b[1;33m]\u001b[0m\u001b[1;33m\u001b[0m\u001b[1;33m\u001b[0m\u001b[0m\n\u001b[0;32m      4\u001b[0m \u001b[1;33m\u001b[0m\u001b[0m\n\u001b[0;32m      5\u001b[0m \u001b[1;31m# Khởi tạo mô hình Random Forest\u001b[0m\u001b[1;33m\u001b[0m\u001b[1;33m\u001b[0m\u001b[0m\n",
      "\u001b[1;31mNameError\u001b[0m: name 'data' is not defined"
     ]
    }
   ],
   "source": [
    "# Chia dữ liệu thành features và label\n",
    "X = data.drop(['team_win'], axis=1)\n",
    "y = data['team_win']\n",
    "\n",
    "# Khởi tạo mô hình Random Forest\n",
    "from sklearn.ensemble import RandomForestClassifier\n",
    "rfc = RandomForestClassifier(n_estimators=100, random_state=42)\n",
    "\n",
    "# Đào tạo mô hình và tính toán độ quan trọng của các đặc trưng\n",
    "rfc.fit(X, y)\n",
    "importances = rfc.feature_importances_\n",
    "\n",
    "# Trực quan hóa độ quan trọng của các đặc trưng\n",
    "import matplotlib.pyplot as plt\n",
    "import seaborn as sns\n",
    "\n",
    "feature_importances = pd.DataFrame({'feature': X.columns,\n",
    "                                    'importance': importances})\n",
    "sns.barplot(x='importance', y='feature', data=feature_importances)\n",
    "plt.title('Độ quan trọng của các đặc trưng')\n",
    "plt.xlabel('Độ quan trọng')\n",
    "plt.ylabel('Đặc trưng')\n",
    "plt.show()"
   ]
  },
  {
   "cell_type": "code",
   "execution_count": null,
   "metadata": {},
   "outputs": [
    {
     "name": "stdout",
     "output_type": "stream",
     "text": [
      "Đặc trưng gold_difference - Xếp hạng: 1\n",
      "Đặc trưng herald_difference - Xếp hạng: 1\n",
      "Đặc trưng dragon_difference - Xếp hạng: 1\n",
      "Đặc trưng turret_difference - Xếp hạng: 5\n",
      "Đặc trưng kda_difference_top - Xếp hạng: 3\n",
      "Đặc trưng kda_difference_jungle - Xếp hạng: 1\n",
      "Đặc trưng kda_difference_mid - Xếp hạng: 6\n",
      "Đặc trưng kda_difference_ad - Xếp hạng: 2\n",
      "Đặc trưng kda_difference_sp - Xếp hạng: 4\n"
     ]
    }
   ],
   "source": [
    "from sklearn.feature_selection import RFE\n",
    "from xgboost import XGBClassifier\n",
    "\n",
    "# Tách dữ liệu thành tập X và tập y\n",
    "X = data.drop('team_win', axis=1)\n",
    "y = data['team_win']\n",
    "\n",
    "# Chia dữ liệu thành tập train và tập test\n",
    "X_train, X_test, y_train, y_test = train_test_split(X, y, test_size=0.2, random_state=42)\n",
    "\n",
    "# Khởi tạo mô hình XGBoost\n",
    "xgb = XGBClassifier()\n",
    "\n",
    "# Sử dụng RFE để chọn ra các đặc trưng quan trọng\n",
    "rfe = RFE(xgb)\n",
    "rfe.fit(X_train, y_train)\n",
    "\n",
    "# Xếp hạng độ quan trọng của các đặc trưng\n",
    "ranking = rfe.ranking_\n",
    "\n",
    "# In ra tên đặc trưng cùng với xếp hạng của nó\n",
    "for i in range(len(X_train.columns)):\n",
    "    print(f\"Đặc trưng {X_train.columns[i]} - Xếp hạng: {ranking[i]}\")"
   ]
  },
  {
   "cell_type": "code",
   "execution_count": null,
   "metadata": {},
   "outputs": [
    {
     "name": "stdout",
     "output_type": "stream",
     "text": [
      "Accuracy: 0.7509\n",
      "Đặc trưng gold_difference: 0.3418\n",
      "Đặc trưng herald_difference: 0.0753\n",
      "Đặc trưng dragon_difference: 0.0940\n",
      "Đặc trưng turret_difference: 0.1436\n",
      "Đặc trưng kda_difference_top: 0.0547\n",
      "Đặc trưng kda_difference_jungle: 0.1149\n",
      "Đặc trưng kda_difference_mid: 0.0538\n",
      "Đặc trưng kda_difference_ad: 0.0613\n",
      "Đặc trưng kda_difference_sp: 0.0607\n",
      "Accuracy: 0.7509\n",
      "Đặc trưng gold_difference: 0.3418\n",
      "Đặc trưng herald_difference: 0.0753\n",
      "Đặc trưng dragon_difference: 0.0940\n",
      "Đặc trưng turret_difference: 0.1436\n",
      "Đặc trưng kda_difference_top: 0.0547\n",
      "Đặc trưng kda_difference_jungle: 0.1149\n",
      "Đặc trưng kda_difference_mid: 0.0538\n",
      "Đặc trưng kda_difference_ad: 0.0613\n",
      "Đặc trưng kda_difference_sp: 0.0607\n",
      "Accuracy: 0.7520\n",
      "Đặc trưng gold_difference: 0.3418\n",
      "Đặc trưng herald_difference: 0.0753\n",
      "Đặc trưng dragon_difference: 0.0940\n",
      "Đặc trưng turret_difference: 0.1436\n",
      "Đặc trưng kda_difference_top: 0.0547\n",
      "Đặc trưng kda_difference_jungle: 0.1149\n",
      "Đặc trưng kda_difference_mid: 0.0538\n",
      "Đặc trưng kda_difference_ad: 0.0613\n",
      "Đặc trưng kda_difference_sp: 0.0607\n",
      "Accuracy: 0.7515\n",
      "Đặc trưng gold_difference: 0.3418\n",
      "Đặc trưng herald_difference: 0.0753\n",
      "Đặc trưng dragon_difference: 0.0940\n",
      "Đặc trưng turret_difference: 0.1436\n",
      "Đặc trưng kda_difference_top: 0.0547\n",
      "Đặc trưng kda_difference_jungle: 0.1149\n",
      "Đặc trưng kda_difference_mid: 0.0538\n",
      "Đặc trưng kda_difference_ad: 0.0613\n",
      "Đặc trưng kda_difference_sp: 0.0607\n",
      "Accuracy: 0.7407\n",
      "Đặc trưng gold_difference: 0.3976\n",
      "Đặc trưng herald_difference: 0.0706\n",
      "Đặc trưng dragon_difference: 0.0859\n",
      "Đặc trưng turret_difference: 0.1036\n",
      "Đặc trưng kda_difference_top: 0.0582\n",
      "Đặc trưng kda_difference_jungle: 0.1058\n",
      "Đặc trưng kda_difference_mid: 0.0563\n",
      "Đặc trưng kda_difference_ad: 0.0618\n",
      "Đặc trưng kda_difference_sp: 0.0603\n",
      "Accuracy: 0.7450\n",
      "Đặc trưng gold_difference: 0.3938\n",
      "Đặc trưng herald_difference: 0.0705\n",
      "Đặc trưng dragon_difference: 0.0862\n",
      "Đặc trưng turret_difference: 0.0995\n",
      "Đặc trưng kda_difference_top: 0.0602\n",
      "Đặc trưng kda_difference_jungle: 0.1091\n",
      "Đặc trưng kda_difference_mid: 0.0565\n",
      "Đặc trưng kda_difference_ad: 0.0623\n",
      "Đặc trưng kda_difference_sp: 0.0619\n",
      "Accuracy: 0.7450\n",
      "Đặc trưng gold_difference: 0.3938\n",
      "Đặc trưng herald_difference: 0.0705\n",
      "Đặc trưng dragon_difference: 0.0862\n",
      "Đặc trưng turret_difference: 0.0995\n",
      "Đặc trưng kda_difference_top: 0.0602\n",
      "Đặc trưng kda_difference_jungle: 0.1091\n",
      "Đặc trưng kda_difference_mid: 0.0565\n",
      "Đặc trưng kda_difference_ad: 0.0623\n",
      "Đặc trưng kda_difference_sp: 0.0619\n"
     ]
    }
   ],
   "source": [
    "from xgboost import XGBClassifier\n",
    "\n",
    "# Tách dữ liệu thành tập X và tập y\n",
    "X = data.drop('team_win', axis=1)\n",
    "y = data['team_win']\n",
    "\n",
    "# Chia dữ liệu thành tập train và tập test\n",
    "X_train, X_test, y_train, y_test = train_test_split(X, y, test_size=0.2, random_state=42)\n",
    "\n",
    "# Các kĩ thuật chuẩn hóa\n",
    "scalers = [MinMaxScaler(), MaxAbsScaler(), StandardScaler(), RobustScaler(), Normalizer(), QuantileTransformer(n_quantiles=623), PowerTransformer()]\n",
    "\n",
    "for scaler in scalers:\n",
    "    X_train = scaler.fit_transform(X_train)\n",
    "    X_test = scaler.transform(X_test)\n",
    "\n",
    "    # Khởi tạo mô hình XGBoost với các tham số cơ bản\n",
    "    xgb = XGBClassifier(learning_rate=0.1, n_estimators=100, max_depth=5, min_child_weight=1, subsample=0.8, colsample_bytree=0.8, objective='binary:logistic', nthread=4, scale_pos_weight=1, seed=27)\n",
    "\n",
    "    # Huấn luyện mô hình trên tập train\n",
    "    xgb.fit(X_train, y_train)\n",
    "\n",
    "    # Dự đoán kết quả trên tập test\n",
    "    y_pred = xgb.predict(X_test)\n",
    "\n",
    "    # Tính toán độ chính xác của mô hình trên tập test\n",
    "    accuracy = accuracy_score(y_test, y_pred)\n",
    "    print(f\"Accuracy: {accuracy:.4f}\")\n",
    "\n",
    "    # Tính toán độ quan trọng của các đặc trưng\n",
    "    importance = xgb.feature_importances_\n",
    "    for i in range(len(importance)):\n",
    "        print(f\"Đặc trưng {X.columns[i]}: {importance[i]:.4f}\")"
   ]
  },
  {
   "cell_type": "code",
   "execution_count": null,
   "metadata": {},
   "outputs": [
    {
     "name": "stdout",
     "output_type": "stream",
     "text": [
      "Đặc trưng gold_difference: 30.38%\n",
      "Đặc trưng herald_difference: 4.79%\n",
      "Đặc trưng dragon_difference: 5.61%\n",
      "Đặc trưng turret_difference: 5.97%\n",
      "Đặc trưng kda_difference_top: 9.32%\n",
      "Đặc trưng kda_difference_jungle: 12.43%\n",
      "Đặc trưng kda_difference_mid: 9.87%\n",
      "Đặc trưng kda_difference_ad: 10.68%\n",
      "Đặc trưng kda_difference_sp: 10.95%\n",
      "Best score: 0.7491\n",
      "Best scaler: StandardScaler\n"
     ]
    }
   ],
   "source": [
    "# Lấy các feature cần dùng\n",
    "X = data.drop(['team_win'], axis=1)\n",
    "\n",
    "# Lấy label cần dự đoán\n",
    "y = data['team_win']\n",
    "\n",
    "# Khởi tạo cross-validation\n",
    "kf = KFold(n_splits=10, shuffle=True, random_state=42)\n",
    "\n",
    "# Các kĩ thuật chuẩn hóa\n",
    "scalers = [MinMaxScaler(), MaxAbsScaler(), StandardScaler(), RobustScaler(), Normalizer(), QuantileTransformer(n_quantiles=623), PowerTransformer()]\n",
    "\n",
    "# Duyệt qua các kĩ thuật chuẩn hóa\n",
    "scores = []\n",
    "mean_feature_importances = np.zeros(X.shape[1])\n",
    "for scaler in scalers:\n",
    "    # Chuẩn hóa dữ liệu\n",
    "    X_scaled = scaler.fit_transform(X)\n",
    "    \n",
    "    # Khởi tạo model Random Forest Classifier\n",
    "    rfc = RandomForestClassifier(n_estimators=100, random_state=42)\n",
    "    \n",
    "    # Duyệt qua các fold và tính accuracy trung bình\n",
    "    acc = []\n",
    "    feature_importances = np.zeros(X.shape[1])\n",
    "    for train_index, test_index in kf.split(X_scaled):\n",
    "        X_train, X_test = X_scaled[train_index], X_scaled[test_index]\n",
    "        y_train, y_test = y[train_index], y[test_index]\n",
    "        \n",
    "        rfc.fit(X_train, y_train)\n",
    "        y_pred = rfc.predict(X_test)\n",
    "        \n",
    "        acc.append(accuracy_score(y_test, y_pred))\n",
    "        feature_importances += rfc.feature_importances_\n",
    "\n",
    "    mean_feature_importances += feature_importances / kf.n_splits\n",
    "    scores.append(np.mean(acc))\n",
    "\n",
    "# Tính trung bình độ quan trọng của các đặc trưng trên tất cả các fold\n",
    "mean_feature_importances /= len(scalers)\n",
    "\n",
    "# In ra độ quan trọng của các đặc trưng\n",
    "for i, importance in enumerate(mean_feature_importances):\n",
    "    print(\"Đặc trưng {}: {:.2f}%\".format(X.columns[i], importance * 100))\n",
    "\n",
    "# Tìm kĩ thuật chuẩn hóa tốt nhất\n",
    "best_score = max(scores)\n",
    "best_scaler = scalers[scores.index(best_score)]\n",
    "print(f\"Best score: {best_score:.4f}\")\n",
    "print(f\"Best scaler: {type(best_scaler).__name__}\")\n"
   ]
  },
  {
   "cell_type": "code",
   "execution_count": null,
   "metadata": {},
   "outputs": [
    {
     "name": "stdout",
     "output_type": "stream",
     "text": [
      "Best hyperparameters: {'C': 0.1, 'kernel': 'linear'}\n",
      "Best score: 0.7570\n",
      "Accuracy on test set: 0.7580\n"
     ]
    }
   ],
   "source": [
    "from sklearn.model_selection import GridSearchCV\n",
    "from sklearn.preprocessing import StandardScaler\n",
    "from sklearn.svm import SVC\n",
    "\n",
    "# Load data\n",
    "df = pd.read_csv(\"processed_data.csv\")\n",
    "\n",
    "# Select features and target\n",
    "features = [\"gold_difference\", \"herald_difference\", \"dragon_difference\", \"turret_difference\",\n",
    "            \"kda_difference_top\", \"kda_difference_jungle\", \"kda_difference_mid\",\n",
    "            \"kda_difference_ad\", \"kda_difference_sp\"]\n",
    "target = \"team_win\"\n",
    "\n",
    "X = df[features]\n",
    "y = df[target]\n",
    "\n",
    "# Split data into training and testing sets\n",
    "X_train, X_test, y_train, y_test = train_test_split(X, y, test_size=0.2, random_state=42)\n",
    "\n",
    "# Scale data\n",
    "scaler = StandardScaler()\n",
    "X_train_scaled = scaler.fit_transform(X_train)\n",
    "X_test_scaled = scaler.transform(X_test)\n",
    "\n",
    "# Define SVM classifier and hyperparameters\n",
    "svm = SVC(random_state=42)\n",
    "params = {\n",
    "    'C': [0.01, 0.1, 1, 10, 100],\n",
    "    'kernel': ['linear', 'rbf', 'sigmoid']\n",
    "}\n",
    "\n",
    "# Tune hyperparameters using grid search\n",
    "grid_search = GridSearchCV(svm, params, cv=5)\n",
    "grid_search.fit(X_train_scaled, y_train)\n",
    "\n",
    "# Print best hyperparameters and best score\n",
    "print(f\"Best hyperparameters: {grid_search.best_params_}\")\n",
    "print(f\"Best score: {grid_search.best_score_:.4f}\")\n",
    "\n",
    "# Evaluate performance on test set\n",
    "y_pred = grid_search.predict(X_test_scaled)\n",
    "accuracy = accuracy_score(y_test, y_pred)\n",
    "print(f\"Accuracy on test set: {accuracy:.4f}\")\n"
   ]
  },
  {
   "cell_type": "code",
   "execution_count": null,
   "metadata": {},
   "outputs": [
    {
     "name": "stdout",
     "output_type": "stream",
     "text": [
      "MinMaxScaler: 0.7572\n",
      "MaxAbsScaler: 0.7577\n",
      "StandardScaler: 0.7567\n",
      "RobustScaler: 0.7568\n",
      "Normalizer: 0.7484\n",
      "QuantileTransformer: 0.7572\n",
      "PowerTransformer: 0.7567\n",
      "Best score: 0.7577\n",
      "Best scaler: MaxAbsScaler\n"
     ]
    }
   ],
   "source": [
    "# Get the features needed\n",
    "from sklearn.linear_model import LogisticRegression\n",
    "\n",
    "\n",
    "X = data.drop(['team_win'], axis=1)\n",
    "\n",
    "# Get the label to be predicted\n",
    "y = data['team_win']\n",
    "\n",
    "# Initialize cross-validation\n",
    "kf = KFold(n_splits=10, shuffle=True, random_state=42)\n",
    "scores = []\n",
    "\n",
    "# Standardization techniques\n",
    "scalers = [MinMaxScaler(), MaxAbsScaler(), StandardScaler(), RobustScaler(), Normalizer(), QuantileTransformer(n_quantiles=623), PowerTransformer()]\n",
    "\n",
    "# Loop through standardization techniques\n",
    "for scaler in scalers:\n",
    "    # Scale the data\n",
    "    X_scaled = scaler.fit_transform(X)\n",
    "\n",
    "    # Initialize logistic regression model\n",
    "    lr = LogisticRegression(random_state=42)\n",
    "\n",
    "    # Loop through folds and calculate average accuracy\n",
    "    acc = []\n",
    "    for train_index, test_index in kf.split(X_scaled):\n",
    "        X_train, X_test = X_scaled[train_index], X_scaled[test_index]\n",
    "        y_train, y_test = y[train_index], y[test_index]\n",
    "\n",
    "        lr.fit(X_train, y_train)\n",
    "        y_pred = lr.predict(X_test)\n",
    "\n",
    "        acc.append(accuracy_score(y_test, y_pred))\n",
    "\n",
    "    scores.append(np.mean(acc))\n",
    "\n",
    "# Print the average accuracy for each standardization technique\n",
    "for i in range(len(scalers)):\n",
    "    print(f\"{type(scalers[i]).__name__}: {scores[i]:.4f}\")\n",
    "\n",
    "# Find the best standardization technique\n",
    "best_score = max(scores)\n",
    "best_scaler = scalers[scores.index(best_score)]\n",
    "print(f\"Best score: {best_score:.4f}\")\n",
    "print(f\"Best scaler: {type(best_scaler).__name__}\")"
   ]
  }
 ],
 "metadata": {
  "kernelspec": {
   "display_name": "Python 3",
   "language": "python",
   "name": "python3"
  },
  "language_info": {
   "codemirror_mode": {
    "name": "ipython",
    "version": 3
   },
   "file_extension": ".py",
   "mimetype": "text/x-python",
   "name": "python",
   "nbconvert_exporter": "python",
   "pygments_lexer": "ipython3",
   "version": "3.10.0"
  },
  "orig_nbformat": 4
 },
 "nbformat": 4,
 "nbformat_minor": 2
}
